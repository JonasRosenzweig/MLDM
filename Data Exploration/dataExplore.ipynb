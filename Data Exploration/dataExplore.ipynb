{
 "cells": [
  {
   "cell_type": "code",
   "execution_count": 1,
   "outputs": [],
   "source": [
    "import pandas as pd\n",
    "import glob\n",
    "import os\n",
    "import numpy as np\n",
    "from statistics import mean\n",
    "import seaborn as sns\n",
    "import matplotlib.pyplot as plt\n",
    "DanDomain = r'C:\\Users\\surface\\Desktop\\YouWe\\MLDM\\Data\\Raw Data'"
   ],
   "metadata": {
    "collapsed": false,
    "pycharm": {
     "name": "#%%\n"
    }
   }
  },
  {
   "cell_type": "code",
   "execution_count": 7,
   "outputs": [
    {
     "name": "stdout",
     "output_type": "stream",
     "text": [
      "['Raw Data']\n",
      "['C:\\\\Users\\\\surface\\\\Desktop\\\\YouWe\\\\MLDM\\\\Data\\\\Raw Data']\n"
     ]
    }
   ],
   "source": [
    "files = glob.glob(DanDomain)\n",
    "names = [os.path.basename(f) for f in files]\n",
    "print(names)\n",
    "print(files)"
   ],
   "metadata": {
    "collapsed": false,
    "pycharm": {
     "name": "#%%\n"
    }
   }
  },
  {
   "cell_type": "code",
   "execution_count": 3,
   "outputs": [
    {
     "name": "stdout",
     "output_type": "stream",
     "text": [
      "Number of shops: 1\n"
     ]
    }
   ],
   "source": [
    "print(\"Number of shops:\", len(names))"
   ],
   "metadata": {
    "collapsed": false,
    "pycharm": {
     "name": "#%%\n"
    }
   }
  },
  {
   "cell_type": "code",
   "execution_count": 4,
   "outputs": [
    {
     "name": "stderr",
     "output_type": "stream",
     "text": [
      "C:\\Users\\surface\\anaconda3\\envs\\MLDM\\lib\\site-packages\\IPython\\core\\interactiveshell.py:3437: FutureWarning: The error_bad_lines argument has been deprecated and will be removed in a future version.\n",
      "\n",
      "\n",
      "  exec(code_obj, self.user_global_ns, self.user_ns)\n"
     ]
    },
    {
     "ename": "PermissionError",
     "evalue": "[Errno 13] Permission denied: 'C:\\\\Users\\\\surface\\\\Desktop\\\\YouWe\\\\MLDM\\\\Data\\\\Raw Data'",
     "output_type": "error",
     "traceback": [
      "\u001B[1;31m---------------------------------------------------------------------------\u001B[0m",
      "\u001B[1;31mPermissionError\u001B[0m                           Traceback (most recent call last)",
      "\u001B[1;32m<ipython-input-4-057df3e21688>\u001B[0m in \u001B[0;36m<module>\u001B[1;34m\u001B[0m\n\u001B[0;32m     24\u001B[0m \u001B[0munique_language_ids\u001B[0m \u001B[1;33m=\u001B[0m \u001B[1;33m[\u001B[0m\u001B[1;33m]\u001B[0m\u001B[1;33m\u001B[0m\u001B[1;33m\u001B[0m\u001B[0m\n\u001B[0;32m     25\u001B[0m \u001B[1;32mfor\u001B[0m \u001B[0mf\u001B[0m \u001B[1;32min\u001B[0m \u001B[0mfiles\u001B[0m\u001B[1;33m:\u001B[0m\u001B[1;33m\u001B[0m\u001B[1;33m\u001B[0m\u001B[0m\n\u001B[1;32m---> 26\u001B[1;33m     \u001B[0mdf\u001B[0m \u001B[1;33m=\u001B[0m \u001B[0mpd\u001B[0m\u001B[1;33m.\u001B[0m\u001B[0mread_csv\u001B[0m\u001B[1;33m(\u001B[0m\u001B[0mf\u001B[0m\u001B[1;33m,\u001B[0m \u001B[0merror_bad_lines\u001B[0m\u001B[1;33m=\u001B[0m\u001B[1;32mFalse\u001B[0m\u001B[1;33m,\u001B[0m \u001B[0mengine\u001B[0m\u001B[1;33m=\u001B[0m\u001B[1;34m'c'\u001B[0m\u001B[1;33m,\u001B[0m \u001B[0mencoding\u001B[0m\u001B[1;33m=\u001B[0m\u001B[1;34m\"ISO-8859-1\"\u001B[0m\u001B[1;33m,\u001B[0m \u001B[0mlow_memory\u001B[0m\u001B[1;33m=\u001B[0m\u001B[1;32mFalse\u001B[0m\u001B[1;33m,\u001B[0m \u001B[0mskiprows\u001B[0m\u001B[1;33m=\u001B[0m\u001B[1;36m1\u001B[0m\u001B[1;33m)\u001B[0m\u001B[1;33m\u001B[0m\u001B[1;33m\u001B[0m\u001B[0m\n\u001B[0m\u001B[0;32m     27\u001B[0m     \u001B[0mdfs\u001B[0m\u001B[1;33m.\u001B[0m\u001B[0mappend\u001B[0m\u001B[1;33m(\u001B[0m\u001B[0mdf\u001B[0m\u001B[1;33m)\u001B[0m\u001B[1;33m\u001B[0m\u001B[1;33m\u001B[0m\u001B[0m\n\u001B[0;32m     28\u001B[0m     \u001B[0munique_product_nums\u001B[0m\u001B[1;33m.\u001B[0m\u001B[0mappend\u001B[0m\u001B[1;33m(\u001B[0m\u001B[1;33m(\u001B[0m\u001B[0mdf\u001B[0m\u001B[1;33m[\u001B[0m\u001B[1;34m'PROD_NUM'\u001B[0m\u001B[1;33m]\u001B[0m\u001B[1;33m)\u001B[0m\u001B[1;33m.\u001B[0m\u001B[0mnunique\u001B[0m\u001B[1;33m(\u001B[0m\u001B[1;33m)\u001B[0m\u001B[1;33m)\u001B[0m\u001B[1;33m\u001B[0m\u001B[1;33m\u001B[0m\u001B[0m\n",
      "\u001B[1;32m~\\anaconda3\\envs\\MLDM\\lib\\site-packages\\pandas\\util\\_decorators.py\u001B[0m in \u001B[0;36mwrapper\u001B[1;34m(*args, **kwargs)\u001B[0m\n\u001B[0;32m    309\u001B[0m                     \u001B[0mstacklevel\u001B[0m\u001B[1;33m=\u001B[0m\u001B[0mstacklevel\u001B[0m\u001B[1;33m,\u001B[0m\u001B[1;33m\u001B[0m\u001B[1;33m\u001B[0m\u001B[0m\n\u001B[0;32m    310\u001B[0m                 )\n\u001B[1;32m--> 311\u001B[1;33m             \u001B[1;32mreturn\u001B[0m \u001B[0mfunc\u001B[0m\u001B[1;33m(\u001B[0m\u001B[1;33m*\u001B[0m\u001B[0margs\u001B[0m\u001B[1;33m,\u001B[0m \u001B[1;33m**\u001B[0m\u001B[0mkwargs\u001B[0m\u001B[1;33m)\u001B[0m\u001B[1;33m\u001B[0m\u001B[1;33m\u001B[0m\u001B[0m\n\u001B[0m\u001B[0;32m    312\u001B[0m \u001B[1;33m\u001B[0m\u001B[0m\n\u001B[0;32m    313\u001B[0m         \u001B[1;32mreturn\u001B[0m \u001B[0mwrapper\u001B[0m\u001B[1;33m\u001B[0m\u001B[1;33m\u001B[0m\u001B[0m\n",
      "\u001B[1;32m~\\anaconda3\\envs\\MLDM\\lib\\site-packages\\pandas\\io\\parsers\\readers.py\u001B[0m in \u001B[0;36mread_csv\u001B[1;34m(filepath_or_buffer, sep, delimiter, header, names, index_col, usecols, squeeze, prefix, mangle_dupe_cols, dtype, engine, converters, true_values, false_values, skipinitialspace, skiprows, skipfooter, nrows, na_values, keep_default_na, na_filter, verbose, skip_blank_lines, parse_dates, infer_datetime_format, keep_date_col, date_parser, dayfirst, cache_dates, iterator, chunksize, compression, thousands, decimal, lineterminator, quotechar, quoting, doublequote, escapechar, comment, encoding, encoding_errors, dialect, error_bad_lines, warn_bad_lines, on_bad_lines, delim_whitespace, low_memory, memory_map, float_precision, storage_options)\u001B[0m\n\u001B[0;32m    584\u001B[0m     \u001B[0mkwds\u001B[0m\u001B[1;33m.\u001B[0m\u001B[0mupdate\u001B[0m\u001B[1;33m(\u001B[0m\u001B[0mkwds_defaults\u001B[0m\u001B[1;33m)\u001B[0m\u001B[1;33m\u001B[0m\u001B[1;33m\u001B[0m\u001B[0m\n\u001B[0;32m    585\u001B[0m \u001B[1;33m\u001B[0m\u001B[0m\n\u001B[1;32m--> 586\u001B[1;33m     \u001B[1;32mreturn\u001B[0m \u001B[0m_read\u001B[0m\u001B[1;33m(\u001B[0m\u001B[0mfilepath_or_buffer\u001B[0m\u001B[1;33m,\u001B[0m \u001B[0mkwds\u001B[0m\u001B[1;33m)\u001B[0m\u001B[1;33m\u001B[0m\u001B[1;33m\u001B[0m\u001B[0m\n\u001B[0m\u001B[0;32m    587\u001B[0m \u001B[1;33m\u001B[0m\u001B[0m\n\u001B[0;32m    588\u001B[0m \u001B[1;33m\u001B[0m\u001B[0m\n",
      "\u001B[1;32m~\\anaconda3\\envs\\MLDM\\lib\\site-packages\\pandas\\io\\parsers\\readers.py\u001B[0m in \u001B[0;36m_read\u001B[1;34m(filepath_or_buffer, kwds)\u001B[0m\n\u001B[0;32m    480\u001B[0m \u001B[1;33m\u001B[0m\u001B[0m\n\u001B[0;32m    481\u001B[0m     \u001B[1;31m# Create the parser.\u001B[0m\u001B[1;33m\u001B[0m\u001B[1;33m\u001B[0m\u001B[1;33m\u001B[0m\u001B[0m\n\u001B[1;32m--> 482\u001B[1;33m     \u001B[0mparser\u001B[0m \u001B[1;33m=\u001B[0m \u001B[0mTextFileReader\u001B[0m\u001B[1;33m(\u001B[0m\u001B[0mfilepath_or_buffer\u001B[0m\u001B[1;33m,\u001B[0m \u001B[1;33m**\u001B[0m\u001B[0mkwds\u001B[0m\u001B[1;33m)\u001B[0m\u001B[1;33m\u001B[0m\u001B[1;33m\u001B[0m\u001B[0m\n\u001B[0m\u001B[0;32m    483\u001B[0m \u001B[1;33m\u001B[0m\u001B[0m\n\u001B[0;32m    484\u001B[0m     \u001B[1;32mif\u001B[0m \u001B[0mchunksize\u001B[0m \u001B[1;32mor\u001B[0m \u001B[0miterator\u001B[0m\u001B[1;33m:\u001B[0m\u001B[1;33m\u001B[0m\u001B[1;33m\u001B[0m\u001B[0m\n",
      "\u001B[1;32m~\\anaconda3\\envs\\MLDM\\lib\\site-packages\\pandas\\io\\parsers\\readers.py\u001B[0m in \u001B[0;36m__init__\u001B[1;34m(self, f, engine, **kwds)\u001B[0m\n\u001B[0;32m    809\u001B[0m             \u001B[0mself\u001B[0m\u001B[1;33m.\u001B[0m\u001B[0moptions\u001B[0m\u001B[1;33m[\u001B[0m\u001B[1;34m\"has_index_names\"\u001B[0m\u001B[1;33m]\u001B[0m \u001B[1;33m=\u001B[0m \u001B[0mkwds\u001B[0m\u001B[1;33m[\u001B[0m\u001B[1;34m\"has_index_names\"\u001B[0m\u001B[1;33m]\u001B[0m\u001B[1;33m\u001B[0m\u001B[1;33m\u001B[0m\u001B[0m\n\u001B[0;32m    810\u001B[0m \u001B[1;33m\u001B[0m\u001B[0m\n\u001B[1;32m--> 811\u001B[1;33m         \u001B[0mself\u001B[0m\u001B[1;33m.\u001B[0m\u001B[0m_engine\u001B[0m \u001B[1;33m=\u001B[0m \u001B[0mself\u001B[0m\u001B[1;33m.\u001B[0m\u001B[0m_make_engine\u001B[0m\u001B[1;33m(\u001B[0m\u001B[0mself\u001B[0m\u001B[1;33m.\u001B[0m\u001B[0mengine\u001B[0m\u001B[1;33m)\u001B[0m\u001B[1;33m\u001B[0m\u001B[1;33m\u001B[0m\u001B[0m\n\u001B[0m\u001B[0;32m    812\u001B[0m \u001B[1;33m\u001B[0m\u001B[0m\n\u001B[0;32m    813\u001B[0m     \u001B[1;32mdef\u001B[0m \u001B[0mclose\u001B[0m\u001B[1;33m(\u001B[0m\u001B[0mself\u001B[0m\u001B[1;33m)\u001B[0m\u001B[1;33m:\u001B[0m\u001B[1;33m\u001B[0m\u001B[1;33m\u001B[0m\u001B[0m\n",
      "\u001B[1;32m~\\anaconda3\\envs\\MLDM\\lib\\site-packages\\pandas\\io\\parsers\\readers.py\u001B[0m in \u001B[0;36m_make_engine\u001B[1;34m(self, engine)\u001B[0m\n\u001B[0;32m   1038\u001B[0m             )\n\u001B[0;32m   1039\u001B[0m         \u001B[1;31m# error: Too many arguments for \"ParserBase\"\u001B[0m\u001B[1;33m\u001B[0m\u001B[1;33m\u001B[0m\u001B[1;33m\u001B[0m\u001B[0m\n\u001B[1;32m-> 1040\u001B[1;33m         \u001B[1;32mreturn\u001B[0m \u001B[0mmapping\u001B[0m\u001B[1;33m[\u001B[0m\u001B[0mengine\u001B[0m\u001B[1;33m]\u001B[0m\u001B[1;33m(\u001B[0m\u001B[0mself\u001B[0m\u001B[1;33m.\u001B[0m\u001B[0mf\u001B[0m\u001B[1;33m,\u001B[0m \u001B[1;33m**\u001B[0m\u001B[0mself\u001B[0m\u001B[1;33m.\u001B[0m\u001B[0moptions\u001B[0m\u001B[1;33m)\u001B[0m  \u001B[1;31m# type: ignore[call-arg]\u001B[0m\u001B[1;33m\u001B[0m\u001B[1;33m\u001B[0m\u001B[0m\n\u001B[0m\u001B[0;32m   1041\u001B[0m \u001B[1;33m\u001B[0m\u001B[0m\n\u001B[0;32m   1042\u001B[0m     \u001B[1;32mdef\u001B[0m \u001B[0m_failover_to_python\u001B[0m\u001B[1;33m(\u001B[0m\u001B[0mself\u001B[0m\u001B[1;33m)\u001B[0m\u001B[1;33m:\u001B[0m\u001B[1;33m\u001B[0m\u001B[1;33m\u001B[0m\u001B[0m\n",
      "\u001B[1;32m~\\anaconda3\\envs\\MLDM\\lib\\site-packages\\pandas\\io\\parsers\\c_parser_wrapper.py\u001B[0m in \u001B[0;36m__init__\u001B[1;34m(self, src, **kwds)\u001B[0m\n\u001B[0;32m     49\u001B[0m \u001B[1;33m\u001B[0m\u001B[0m\n\u001B[0;32m     50\u001B[0m         \u001B[1;31m# open handles\u001B[0m\u001B[1;33m\u001B[0m\u001B[1;33m\u001B[0m\u001B[1;33m\u001B[0m\u001B[0m\n\u001B[1;32m---> 51\u001B[1;33m         \u001B[0mself\u001B[0m\u001B[1;33m.\u001B[0m\u001B[0m_open_handles\u001B[0m\u001B[1;33m(\u001B[0m\u001B[0msrc\u001B[0m\u001B[1;33m,\u001B[0m \u001B[0mkwds\u001B[0m\u001B[1;33m)\u001B[0m\u001B[1;33m\u001B[0m\u001B[1;33m\u001B[0m\u001B[0m\n\u001B[0m\u001B[0;32m     52\u001B[0m         \u001B[1;32massert\u001B[0m \u001B[0mself\u001B[0m\u001B[1;33m.\u001B[0m\u001B[0mhandles\u001B[0m \u001B[1;32mis\u001B[0m \u001B[1;32mnot\u001B[0m \u001B[1;32mNone\u001B[0m\u001B[1;33m\u001B[0m\u001B[1;33m\u001B[0m\u001B[0m\n\u001B[0;32m     53\u001B[0m \u001B[1;33m\u001B[0m\u001B[0m\n",
      "\u001B[1;32m~\\anaconda3\\envs\\MLDM\\lib\\site-packages\\pandas\\io\\parsers\\base_parser.py\u001B[0m in \u001B[0;36m_open_handles\u001B[1;34m(self, src, kwds)\u001B[0m\n\u001B[0;32m    220\u001B[0m         \u001B[0mLet\u001B[0m \u001B[0mthe\u001B[0m \u001B[0mreaders\u001B[0m \u001B[0mopen\u001B[0m \u001B[0mIOHandles\u001B[0m \u001B[0mafter\u001B[0m \u001B[0mthey\u001B[0m \u001B[0mare\u001B[0m \u001B[0mdone\u001B[0m \u001B[1;32mwith\u001B[0m \u001B[0mtheir\u001B[0m \u001B[0mpotential\u001B[0m \u001B[0mraises\u001B[0m\u001B[1;33m.\u001B[0m\u001B[1;33m\u001B[0m\u001B[1;33m\u001B[0m\u001B[0m\n\u001B[0;32m    221\u001B[0m         \"\"\"\n\u001B[1;32m--> 222\u001B[1;33m         self.handles = get_handle(\n\u001B[0m\u001B[0;32m    223\u001B[0m             \u001B[0msrc\u001B[0m\u001B[1;33m,\u001B[0m\u001B[1;33m\u001B[0m\u001B[1;33m\u001B[0m\u001B[0m\n\u001B[0;32m    224\u001B[0m             \u001B[1;34m\"r\"\u001B[0m\u001B[1;33m,\u001B[0m\u001B[1;33m\u001B[0m\u001B[1;33m\u001B[0m\u001B[0m\n",
      "\u001B[1;32m~\\anaconda3\\envs\\MLDM\\lib\\site-packages\\pandas\\io\\common.py\u001B[0m in \u001B[0;36mget_handle\u001B[1;34m(path_or_buf, mode, encoding, compression, memory_map, is_text, errors, storage_options)\u001B[0m\n\u001B[0;32m    699\u001B[0m         \u001B[1;32mif\u001B[0m \u001B[0mioargs\u001B[0m\u001B[1;33m.\u001B[0m\u001B[0mencoding\u001B[0m \u001B[1;32mand\u001B[0m \u001B[1;34m\"b\"\u001B[0m \u001B[1;32mnot\u001B[0m \u001B[1;32min\u001B[0m \u001B[0mioargs\u001B[0m\u001B[1;33m.\u001B[0m\u001B[0mmode\u001B[0m\u001B[1;33m:\u001B[0m\u001B[1;33m\u001B[0m\u001B[1;33m\u001B[0m\u001B[0m\n\u001B[0;32m    700\u001B[0m             \u001B[1;31m# Encoding\u001B[0m\u001B[1;33m\u001B[0m\u001B[1;33m\u001B[0m\u001B[1;33m\u001B[0m\u001B[0m\n\u001B[1;32m--> 701\u001B[1;33m             handle = open(\n\u001B[0m\u001B[0;32m    702\u001B[0m                 \u001B[0mhandle\u001B[0m\u001B[1;33m,\u001B[0m\u001B[1;33m\u001B[0m\u001B[1;33m\u001B[0m\u001B[0m\n\u001B[0;32m    703\u001B[0m                 \u001B[0mioargs\u001B[0m\u001B[1;33m.\u001B[0m\u001B[0mmode\u001B[0m\u001B[1;33m,\u001B[0m\u001B[1;33m\u001B[0m\u001B[1;33m\u001B[0m\u001B[0m\n",
      "\u001B[1;31mPermissionError\u001B[0m: [Errno 13] Permission denied: 'C:\\\\Users\\\\surface\\\\Desktop\\\\YouWe\\\\MLDM\\\\Data\\\\Raw Data'"
     ]
    }
   ],
   "source": [
    "columns=['PROD_NUM', 'LANGUAGE_ID', 'PROD_NAME', 'PROD_WEIGHT', 'PROD_SORT',\n",
    "       'PROD_MIN_BUY', 'PROD_MIN_BUY_B2B', 'PROD_MAX_BUY', 'PROD_PHOTO_URL',\n",
    "       'PROD_FILE_URL', 'PROD_PDF_URL', 'PROD_PDF_URL_2', 'PROD_PDF_URL_3',\n",
    "       'PROD_PDF_URL_TEXT', 'PROD_PDF_URL_TEXT_2', 'PROD_PDF_URL_TEXT_3',\n",
    "       'PROD_RETAIL_PRICE', 'PROD_COST_PRICE', 'PROD_VAR_MASTER',\n",
    "       'CURRENCY_CODE', 'UNIT_PRICE', 'PROD_NOTES', 'PROD_PICTURE_ALT_TEXT',\n",
    "       'PROD_SITE_SPECIFIC_SORTING', 'VENDOR_NUM', 'PROD_UNIT_ID',\n",
    "       'PROD_TYPE_ID', 'PROD_HIDDEN', 'PROD_HIDDEN_PERIOD_ID', 'PROD_NEW',\n",
    "       'PROD_NEW_PERIOD_ID', 'PROD_FRONT_PAGE', 'PROD_FRONT_PAGE_PERIOD_ID',\n",
    "       'PROD_VAR_MASTER_ID', 'TOPLIST_HIDDEN', 'INTERNAL_ID',\n",
    "       'PROD_UNIQUE_URL_NAME', 'DIRECT_LINK', 'PROD_BARCODE_NUMBER',\n",
    "       'PROD_GOOGLE_FEED_CATEGORY', 'OMIT_FROM_FREE_SHIPPING_LIMIT',\n",
    "       'PROD_SHOW_ON_GOOGLE_FEED', 'PROD_SHOW_ON_FACEBOOK_FEED', 'STOCK_COUNT',\n",
    "       'STOCK_LIMIT', 'PROD_DELIVERY', 'PROD_DELIVERY_NOT_IN_STOCK',\n",
    "       'PROD_LOCATION_NUMBER', 'PROD_CREATED', 'PROD_CREATED_BY',\n",
    "       'PROD_EDITED', 'PROD_EDITED_BY', 'PROD_VIEWED', 'PROD_SALES_COUNT',\n",
    "       'DESC_SHORT', 'DESC_LONG', 'DESC_LONG_2', 'PROD_SEARCHWORD',\n",
    "       'META_DESCRIPTION', 'TITLE', 'FIELD_1', 'FIELD_2', 'FIELD_3', 'FIELD_4',\n",
    "       'FIELD_5', 'FIELD_6', 'FIELD_7', 'FIELD_8', 'FIELD_9', 'FIELD_10',\n",
    "       'PROD_CAT_ID', 'MANUFAC_ID']\n",
    "dfs = []\n",
    "unique_product_nums = []\n",
    "unique_product_names = []\n",
    "unique_language_ids = []\n",
    "for f in files:\n",
    "    df = pd.read_csv(f, error_bad_lines=False, engine='c', encoding=\"ISO-8859-1\", low_memory=False, skiprows=1)\n",
    "    dfs.append(df)\n",
    "    unique_product_nums.append((df['PROD_NUM']).nunique())\n",
    "    unique_product_names.append((df['PROD_NAME']).nunique())\n",
    "    unique_language_ids.append((df['LANGUAGE_ID']).nunique())\n",
    "    store_num_empty_cells = []\n",
    "    store_num_not_empty_cells = []\n",
    "    store_percent_used_cells = []\n",
    "    print(f)\n",
    "    idx = 0\n",
    "    for x in columns:\n",
    "        idx += 1\n",
    "        if x not in df:\n",
    "            missing_col = pd.Series()\n",
    "            df.insert(idx, x, missing_col)\n",
    "        store_num_empty_cells.append(df[x].isna().sum())\n",
    "        print(\"Empty\", x, \"cells:\", df[x].isna().sum())\n",
    "        store_num_not_empty_cells.append((len(df.index))-df[x].isna().sum())\n",
    "        print(\"Non-Empty\", x, \"cells:\", (len(df.index))-df[x].isna().sum())\n",
    "        store_percent_used_cells.append(100-((100*df[x].isna().sum())/len(df.index)))\n",
    "        print(\"Percent empty\", x, \"cells:\", \"%.2f\" % ((100*df[x].isna().sum())/len(df.index)), \"%\")\n",
    "        print(\"\\n\")\n",
    "    plt.rcParams[\"figure.figsize\"] = (20,20)\n",
    "#     plt.bar(columns, store_num_empty_cells, color='r')\n",
    "#     plt.legend(fontsize=20)\n",
    "#     plt.xticks(rotation=90)\n",
    "#     plt.rcParams[\"figure.figsize\"] = (20,20)\n",
    "#     plt.show()\n",
    "#     plt.bar(columns, store_num_not_empty_cells, color='g')\n",
    "#     plt.legend(fontsize=20)\n",
    "#     plt.xticks(rotation=90)\n",
    "#     plt.rcParams[\"figure.figsize\"] = (20,20)\n",
    "#     plt.show()\n",
    "    plt.bar(columns, store_percent_used_cells, color='b')\n",
    "    plt.legend(fontsize=20)\n",
    "    plt.xticks(rotation=90)\n",
    "    plt.rcParams[\"figure.figsize\"] = (20,20)\n",
    "    plt.show()\n",
    "print(df.columns)\n",
    "dfTotal = pd.concat(dfs)\n"
   ],
   "metadata": {
    "collapsed": false,
    "pycharm": {
     "name": "#%%\n"
    }
   }
  },
  {
   "cell_type": "code",
   "execution_count": null,
   "outputs": [],
   "source": [
    "product_nums_per_shop = list(zip(names,unique_product_nums))\n",
    "print(\"unique product numbers per shop:\")\n",
    "for i in product_nums_per_shop:\n",
    "    print(i)\n",
    "plt.bar(names, unique_product_nums, color='r')\n",
    "plt.legend(fontsize=20)\n",
    "plt.xticks(rotation=90)\n",
    "plt.rcParams[\"figure.figsize\"] = (20,20)\n",
    "plt.show()"
   ],
   "metadata": {
    "collapsed": false,
    "pycharm": {
     "name": "#%%\n"
    }
   }
  },
  {
   "cell_type": "code",
   "execution_count": null,
   "outputs": [],
   "source": [
    "product_names_per_shop = list(zip(names,unique_product_names))\n",
    "print(\"unique product numbers per shop:\")\n",
    "for i in product_names_per_shop:\n",
    "    print(i)\n",
    "plt.bar(names, unique_product_names, color='g')\n",
    "plt.legend(fontsize=20)\n",
    "plt.xticks(rotation=90)\n",
    "plt.rcParams[\"figure.figsize\"] = (20,20)\n",
    "plt.show()"
   ],
   "metadata": {
    "collapsed": false,
    "pycharm": {
     "name": "#%%\n"
    }
   }
  },
  {
   "cell_type": "code",
   "execution_count": null,
   "outputs": [],
   "source": [
    "difference = []\n",
    "zipped_lists = zip(unique_product_nums, unique_product_names)\n",
    "for unique_product_nums_i, unique_product_names_i in zipped_lists:\n",
    "    difference.append(unique_product_nums_i-unique_product_names_i)\n",
    "diff_unique_prod_names_nums = list(zip(names, difference))\n",
    "print(\"Duplicate Products in shop based on product name and product num difference:\")\n",
    "for i in diff_unique_prod_names_nums:\n",
    "    print(i)\n",
    "plt.bar(names, difference, color='b')\n",
    "plt.legend(fontsize=20)\n",
    "plt.xticks(rotation=90)\n",
    "plt.rcParams[\"figure.figsize\"] = (20,20)\n",
    "plt.show()"
   ],
   "metadata": {
    "collapsed": false,
    "pycharm": {
     "name": "#%%\n"
    }
   }
  },
  {
   "cell_type": "code",
   "execution_count": null,
   "outputs": [],
   "source": [
    "print(\"Total Rows in all shops:\", len(dfTotal.index))\n",
    "print(\"Total Classes:\", dfTotal.shape[1])\n",
    "print(\"Mean amount of product numbers:\", \"%.0f\" % mean(unique_product_nums))\n",
    "print(\"Total unique product numbers:\", sum(unique_product_nums))\n",
    "print(\"Duplicate product numbers:\", len(dfTotal.index)-sum(unique_product_nums))\n",
    "print(\"Mean amount of product names:\", \"%.0f\" % mean(unique_product_names))\n",
    "print(\"Total unique product names:\", sum(unique_product_names))"
   ],
   "metadata": {
    "collapsed": false,
    "pycharm": {
     "name": "#%%\n"
    }
   }
  },
  {
   "cell_type": "code",
   "execution_count": null,
   "outputs": [],
   "source": [
    "lang_ids_per_shop = list(zip(names,unique_language_ids))\n",
    "print(\"unique languages per shop:\")\n",
    "for i in lang_ids_per_shop:\n",
    "    print(i)"
   ],
   "metadata": {
    "collapsed": false,
    "pycharm": {
     "name": "#%%\n"
    }
   }
  },
  {
   "cell_type": "code",
   "execution_count": null,
   "outputs": [],
   "source": [
    "print(\"Total unique language IDs:\", dfTotal['LANGUAGE_ID'].nunique())\n",
    "print(\"Average # of languages per shop:\", mean(unique_language_ids))"
   ],
   "metadata": {
    "collapsed": false,
    "pycharm": {
     "name": "#%%\n"
    }
   }
  },
  {
   "cell_type": "code",
   "execution_count": null,
   "outputs": [],
   "source": [
    "num_empty_cells = []\n",
    "num_not_empty_cells = []\n",
    "percent_used_cells = []\n",
    "for x in columns:\n",
    "    num_empty_cells.append(dfTotal[x].isna().sum())\n",
    "    print(\"Empty\", x, \"cells:\", dfTotal[x].isna().sum())\n",
    "    num_not_empty_cells.append((len(dfTotal.index))-dfTotal[x].isna().sum())\n",
    "    print(\"Non-Empty\", x, \"cells:\", (len(dfTotal.index))-dfTotal[x].isna().sum())\n",
    "    percent_used_cells.append(100-((100*dfTotal[x].isna().sum())/len(dfTotal.index)))\n",
    "    print(\"Percent used\", x, \"cells:\", \"%.2f\" % (100-((100*dfTotal[x].isna().sum())/len(dfTotal.index))), \"%\")\n",
    "    print(\"\\n\")\n"
   ],
   "metadata": {
    "collapsed": false,
    "pycharm": {
     "name": "#%%\n"
    }
   }
  },
  {
   "cell_type": "code",
   "execution_count": null,
   "outputs": [],
   "source": [
    "plt.bar(columns, num_empty_cells, color='r')\n",
    "plt.legend(fontsize=20)\n",
    "plt.xticks(rotation=90)\n",
    "plt.rcParams[\"figure.figsize\"] = (20,20)\n",
    "plt.show()"
   ],
   "metadata": {
    "collapsed": false,
    "pycharm": {
     "name": "#%%\n"
    }
   }
  },
  {
   "cell_type": "code",
   "execution_count": null,
   "outputs": [],
   "source": [
    "plt.bar(columns, num_not_empty_cells, color='g')\n",
    "plt.legend(fontsize=20)\n",
    "plt.xticks(rotation=90)\n",
    "plt.rcParams[\"figure.figsize\"] = (20,20)\n",
    "plt.show()"
   ],
   "metadata": {
    "collapsed": false,
    "pycharm": {
     "name": "#%%\n"
    }
   }
  },
  {
   "cell_type": "code",
   "execution_count": null,
   "outputs": [],
   "source": [
    "#percent_empty_cells.sort()\n",
    "plt.bar(columns, percent_used_cells, color='b')\n",
    "plt.legend(fontsize=20)\n",
    "plt.xticks(rotation=90)\n",
    "plt.rcParams[\"figure.figsize\"] = (20,20)\n",
    "plt.show()"
   ],
   "metadata": {
    "collapsed": false,
    "pycharm": {
     "name": "#%%\n"
    }
   }
  },
  {
   "cell_type": "code",
   "execution_count": null,
   "outputs": [],
   "source": [
    "dfTotal.info()"
   ],
   "metadata": {
    "collapsed": false,
    "pycharm": {
     "name": "#%%\n"
    }
   }
  },
  {
   "cell_type": "code",
   "execution_count": null,
   "outputs": [],
   "source": [
    "dfTotal.describe()"
   ],
   "metadata": {
    "collapsed": false,
    "pycharm": {
     "name": "#%%\n"
    }
   }
  },
  {
   "cell_type": "code",
   "execution_count": null,
   "outputs": [],
   "source": [
    "dfTotal.shape"
   ],
   "metadata": {
    "collapsed": false,
    "pycharm": {
     "name": "#%%\n"
    }
   }
  },
  {
   "cell_type": "code",
   "execution_count": null,
   "outputs": [],
   "source": [
    "duplicate_dfTotal = dfTotal[dfTotal.duplicated()]\n",
    "print(\"Number of duplicate rows:\", duplicate_dfTotal.shape)"
   ],
   "metadata": {
    "collapsed": false,
    "pycharm": {
     "name": "#%%\n"
    }
   }
  },
  {
   "cell_type": "code",
   "execution_count": null,
   "outputs": [],
   "source": [
    "def findOutliers(column):\n",
    "    outliers = []\n",
    "    Q1 = column.quantile(.25)\n",
    "    Q3 = column.quantile(.75)\n",
    "    IQR = Q3-Q1\n",
    "    lower_limit = Q1-(1.5*IQR)\n",
    "    upper_limit = Q3+(1.5*IQR)\n",
    "    for outlier in column:\n",
    "        if outlier > upper_limit or outlier < lower_limit:\n",
    "            outliers.append(outlier)\n",
    "    return np.array(outliers)\n",
    "\n",
    "weight_as_int = (dfTotal.PROD_WEIGHT.dropna().str.replace(',', '')).astype(np.int64)\n",
    "print(\"number of outliers PROD_WEIGHT:\", len(findOutliers(weight_as_int)))\n",
    "print(\"number of outliers PROD_MIN_BUY:\", len(findOutliers(dfTotal.PROD_MIN_BUY)))\n",
    "print(\"number of outliers STOCK_COUNT:\", len(findOutliers(dfTotal.STOCK_COUNT)))\n",
    "print(\"number of outliers STOCK_LIMIT:\", len(findOutliers(dfTotal.STOCK_LIMIT)))\n",
    "print(\"number of outliers PROD_VIEWED:\", len(findOutliers(dfTotal.PROD_VIEWED)))\n",
    "print(\"number of outliers PROD_SALES_COUNT:\", len(findOutliers(dfTotal.PROD_SALES_COUNT)))\n",
    "#retail_price_as_int = (dfTotal.PROD_RETAIL_PRICE.dropna().str.replace(',', '')).astype(np.int64)\n",
    "#print(\"number of outliers PROD_RETAIL_PRICE:\", len(findOutliers(retail_price_as_int)))\n",
    "#cost_price_as_int = (dfTotal.PROD_COST_PRICE.dropna().str.replace(',', '')).astype(np.int64)\n",
    "#print(\"number of outliers PROD_COST_PRICE:\", len(findOutliers(cost_price_as_int)))\n",
    "#unit_price_as_int = (dfTotal.UNIT_PRICE.dropna().str.replace(',', '')).astype(np.int64)\n",
    "#print(\"number of outliers UNIT_PRICE:\", len(findOutliers(unit_price_as_int)))\n"
   ],
   "metadata": {
    "collapsed": false,
    "pycharm": {
     "name": "#%%\n"
    }
   }
  },
  {
   "cell_type": "code",
   "execution_count": null,
   "outputs": [],
   "source": [
    "dfTotal.nunique(axis=0)\n",
    "dfTotal.describe().apply(lambda s: s.apply(lambda x: format(x, 'f')))"
   ],
   "metadata": {
    "collapsed": false,
    "pycharm": {
     "name": "#%%\n"
    }
   }
  },
  {
   "cell_type": "code",
   "execution_count": null,
   "outputs": [],
   "source": [
    "# number refers to % threshold of unused fields to be removed\n",
    "dfTotal_cleaned_75 = dfTotal.drop(['PROD_MIN_BUY_B2B', 'PROD_FILE_URL', 'PROD_PDF_URL', 'PROD_PDF_URL_2', 'PROD_PDF_URL_3',\n",
    "                                  'PROD_PDF_URL_TEXT', 'PROD_PDF_URL_TEXT_2', 'PROD_PDF_URL_TEXT_3', 'PROD_NOTES',\n",
    "                                  'PROD_PICTURE_ALT_TEXT', 'PROD_HIDDEN_PERIOD_ID', 'PROD_NEW_PERIOD_ID', 'PROD_FRONT_PAGE_PERIOD_ID',\n",
    "                                  'PROD_UNIQUE_URL_NAME', 'PROD_BARCODE_NUMBER', 'PROD_GOOGLE_FEED_CATEGORY',\n",
    "                                  'PROD_DELIVERY_NOT_IN_STOCK', 'PROD_LOCATION_NUMBER', 'DESC_SHORT' ,'DESC_LONG_2',\n",
    "                                  'PROD_SEARCHWORD', 'META_DESCRIPTION', 'TITLE', 'FIELD_1', 'FIELD_2','FIELD_3', 'FIELD_4',\n",
    "                                  'FIELD_5', 'FIELD_6', 'FIELD_7', 'FIELD_8', 'FIELD_9', 'FIELD_10', 'PROD_SHOW_ON_KELKOO_FEED',\n",
    "                                  'EDBPriser_NUM', 'PROD_SHOW_ON_PRICERUNNER_FEED' , 'PROD_DELIVERY'], axis=1)\n",
    "dfTotal_cleaned_51 = dfTotal_cleaned_75.drop(['PROD_UNIT_ID', 'PROD_VAR_MASTER_ID', 'PROD_CREATED_BY', 'MANUFAC_ID'], axis=1)\n",
    "dfTotal_cleaned_45 = dfTotal_cleaned_51.drop(['PROD_SORT', 'PROD_MIN_BUY', 'PROD_MAX_BUY', 'PROD_SITE_SPECIFIC_SORTING',\n",
    "                                             'VENDOR_NUM', 'PROD_HIDDEN', 'PROD_NEW', 'PROD_FRONT_PAGE', 'TOPLIST_HIDDEN',\n",
    "                                             'INTERNAL_ID', 'DIRECT_LINK', 'OMIT_FROM_FREE_SHIPPING_LIMIT', 'PROD_SHOW_ON_GOOGLE_FEED',\n",
    "                                             'PROD_SHOW_ON_FACEBOOK_FEED', 'STOCK_COUNT', 'STOCK_LIMIT', 'PROD_CREATED', 'PROD_EDITED',\n",
    "                                             'PROD_EDITED_BY', 'PROD_VIEWED', 'PROD_SALES_COUNT', 'PROD_TYPE_ID', 'PROD_CAT_ID'], axis=1)\n",
    "dfTotal_cleaned_10 = dfTotal_cleaned_45.drop(['DESC_LONG'], axis=1)\n",
    "dfTotal_cleaned_5 = dfTotal_cleaned_10.drop(['PROD_PHOTO_URL'], axis=1)\n",
    "\n",
    "print(\"Shape of data when removing cols which are at least 75% unused:\", dfTotal_cleaned_75.shape)\n",
    "print(\"Shape of data when removing cols which are at least 51% unused:\", dfTotal_cleaned_51.shape)\n",
    "print(\"Shape of data when removing cols which are at least 45% unused:\", dfTotal_cleaned_45.shape)\n",
    "print(\"Shape of data when removing cols which are at least 10% unused:\", dfTotal_cleaned_10.shape)\n",
    "print(\"Shape of data when removing cols which are at least 5% unused:\", dfTotal_cleaned_5.shape)\n",
    "print(\"Columns of df which are at least 5% used:\", dfTotal_cleaned_5.columns)\n",
    "print(\"This leaves us with 9 categories, of which 3 are price, meaning we are left with 7: 'PROD_NUM', 'LANGUAGE_ID'\",\n",
    "      \"'PROD_NAME', 'PROD_WEIGHT', 'PROD_VAR_MASTER','CURRENCY_CODE', 'UNIT_PRICE'\")"
   ],
   "metadata": {
    "collapsed": false,
    "pycharm": {
     "name": "#%%\n"
    }
   }
  },
  {
   "cell_type": "code",
   "execution_count": null,
   "outputs": [],
   "source": [
    "# NA_val = df_cleaned.isna().sum()def na_filter(na, threshold = .4): #only select variables that passees the threshold\n",
    "#     col_pass = []\n",
    "#     for i in na.keys():\n",
    "#         if na[i]/df_cleaned.shape[0]<threshold:\n",
    "#             col_pass.append(i)\n",
    "#     return col_passdf_cleaned = df_cleaned[na_filter(NA_val)]\n",
    "# df_cleaned.columns\n",
    "\n",
    "#could use this code to select thresholds"
   ],
   "metadata": {
    "collapsed": false,
    "pycharm": {
     "name": "#%%\n"
    }
   }
  },
  {
   "cell_type": "code",
   "execution_count": null,
   "outputs": [],
   "source": [
    "dfTotal_cleaned_5.info()\n",
    "dfTotal_cleaned_5.describe()"
   ],
   "metadata": {
    "collapsed": false,
    "pycharm": {
     "name": "#%%\n"
    }
   }
  },
  {
   "cell_type": "code",
   "execution_count": null,
   "outputs": [],
   "source": [
    "dfTotal_cleaned_5.PROD_WEIGHT=(dfTotal_cleaned_5.PROD_WEIGHT.dropna()).astype(str)\n",
    "dfTotal_cleaned_5.PROD_WEIGHT=dfTotal_cleaned_5.PROD_WEIGHT.str.replace(',', '')\n",
    "dfTotal_cleaned_5.PROD_WEIGHT=(dfTotal_cleaned_5.PROD_WEIGHT.dropna()).astype(float)\n",
    "dfTotal_cleaned_5['PROD_WEIGHT']=dfTotal_cleaned_5.PROD_WEIGHT.div(10000)\n",
    "weight_too_high = dfTotal_cleaned_5[dfTotal_cleaned_5['PROD_WEIGHT'] > 10000].index\n",
    "dfTotal_cleaned_5.drop(weight_too_high, inplace=True)\n",
    "print(\"done converting PROD_WEIGHT to float and removing commas\")\n",
    "print(dfTotal_cleaned_5['PROD_WEIGHT'].shape)\n",
    "print(len(dfTotal_cleaned_5['PROD_WEIGHT'].isnull()))\n",
    "print(dfTotal_cleaned_5['PROD_WEIGHT'].max())\n",
    "dfTotal_cleaned_5['PROD_WEIGHT'].head(1000)"
   ],
   "metadata": {
    "collapsed": false,
    "pycharm": {
     "name": "#%%\n"
    }
   }
  },
  {
   "cell_type": "code",
   "execution_count": null,
   "outputs": [],
   "source": [
    "print(dfTotal_cleaned_5['PROD_NUM'].shape)\n",
    "print(len(dfTotal_cleaned_5['PROD_NUM'].isnull()))\n",
    "dfTotal_cleaned_5['PROD_NUM'].head(1000)"
   ],
   "metadata": {
    "collapsed": false,
    "pycharm": {
     "name": "#%%\n"
    }
   }
  },
  {
   "cell_type": "code",
   "execution_count": null,
   "outputs": [],
   "source": [
    "# dfTotal_cleaned_5.PROD_RETAIL_PRICE = (dfTotal_cleaned_5.PROD_RETAIL_PRICE.dropna()).astype(str)\n",
    "# dfTotal_cleaned_5.PROD_RETAIL_PRICE = dfTotal_cleaned_5.PROD_RETAIL_PRICE.str.replace(',', '')\n",
    "# dfTotal_cleaned_5.PROD_RETAIL_PRICE = (dfTotal_cleaned_5.PROD_RETAIL_PRICE.dropna()).astype(float)\n",
    "# dfTotal_cleaned_5.PROD_RETAIL_PRICE = dfTotal_cleaned_5['PROD_RETAIL_PRICE'].div(100)\n",
    "# print(\"done converting PROD_RETAIL_PRICE to float and removing commas\")\n",
    "# print(dfTotal_cleaned_5['PROD_RETAIL_PRICE'].shape)\n",
    "# print(len(dfTotal_cleaned_5['PROD_RETAIL_PRICE'].isnull()))\n",
    "# print(dfTotal_cleaned_5['PROD_RETAIL_PRICE'].max())\n",
    "# dfTotal_cleaned_5['PROD_RETAIL_PRICE'].head(1000)"
   ],
   "metadata": {
    "collapsed": false,
    "pycharm": {
     "name": "#%%\n"
    }
   }
  },
  {
   "cell_type": "code",
   "execution_count": null,
   "outputs": [],
   "source": [
    "# from re import sub\n",
    "# from decimal import Decimal\n",
    "\n",
    "# money = '6,312,312.12 DKK'\n",
    "# value = Decimal(sub(r'[^\\d.]', '', money))\n",
    "# print(value)"
   ],
   "metadata": {
    "collapsed": false,
    "pycharm": {
     "name": "#%%\n"
    }
   }
  },
  {
   "cell_type": "code",
   "execution_count": null,
   "outputs": [],
   "source": [
    "dfTotal_cleaned_5.PROD_COST_PRICE = (dfTotal_cleaned_5.PROD_COST_PRICE.dropna()).astype(str)\n",
    "dfTotal_cleaned_5.PROD_COST_PRICE = dfTotal_cleaned_5.PROD_COST_PRICE.str.replace(',', '')\n",
    "dfTotal_cleaned_5.PROD_COST_PRICE = dfTotal_cleaned_5.PROD_COST_PRICE.str.replace('DKK', '')\n",
    "dfTotal_cleaned_5.PROD_COST_PRICE = pd.to_numeric(dfTotal_cleaned_5.PROD_COST_PRICE)\n",
    "print(dfTotal_cleaned_5.PROD_COST_PRICE)\n",
    "dfTotal_cleaned_5.PROD_COST_PRICE = dfTotal_cleaned_5.PROD_COST_PRICE.astype(float)\n",
    "dfTotal_cleaned_5.PROD_COST_PRICE = dfTotal_cleaned_5.PROD_COST_PRICE.div(10)\n",
    "print(\"done converting PROD_COST_PRICE to currency\")\n",
    "print(dfTotal_cleaned_5['PROD_COST_PRICE'].shape)\n",
    "print(len(dfTotal_cleaned_5['PROD_COST_PRICE'].isnull()))\n",
    "print(dfTotal_cleaned_5['PROD_COST_PRICE'].max())\n",
    "dfTotal_cleaned_5['PROD_COST_PRICE'].head(1000)"
   ],
   "metadata": {
    "collapsed": false,
    "pycharm": {
     "name": "#%%\n"
    }
   }
  },
  {
   "cell_type": "code",
   "execution_count": null,
   "outputs": [],
   "source": [
    "\n",
    "print(len(dfTotal_cleaned_5.UNIT_PRICE[dfTotal_cleaned_5.UNIT_PRICE.index.duplicated()]))\n",
    "print(dfTotal_cleaned_5.UNIT_PRICE.isna().sum())\n"
   ],
   "metadata": {
    "collapsed": false,
    "pycharm": {
     "name": "#%%\n"
    }
   }
  },
  {
   "cell_type": "code",
   "execution_count": null,
   "outputs": [],
   "source": [
    "\n",
    "dfTotal_cleaned_5.UNIT_PRICE = (dfTotal_cleaned_5.UNIT_PRICE).apply(str)\n",
    "dfTotal_cleaned_5.UNIT_PRICE = dfTotal_cleaned_5.UNIT_PRICE.str.replace(',', '')\n",
    "dfTotal_cleaned_5.UNIT_PRICE = (dfTotal_cleaned_5.UNIT_PRICE.dropna()).astype(float)\n",
    "dfTotal_cleaned_5.UNIT_PRICE = dfTotal_cleaned_5['UNIT_PRICE'].div(100)\n",
    "print(\"done converting UNIT_PRICE to float and removing commas\")\n",
    "print(dfTotal_cleaned_5['UNIT_PRICE'].shape)\n",
    "print(len(dfTotal_cleaned_5['UNIT_PRICE'].isnull()))\n",
    "print(dfTotal_cleaned_5['UNIT_PRICE'].max())\n",
    "dfTotal_cleaned_5['UNIT_PRICE'].head(1000)"
   ],
   "metadata": {
    "collapsed": false,
    "pycharm": {
     "name": "#%%\n"
    }
   }
  },
  {
   "cell_type": "code",
   "execution_count": null,
   "outputs": [],
   "source": [
    "dfTotal_cleaned_5 = dfTotal_cleaned_5.dropna(how='any',axis=0)\n",
    "\n",
    "dfTotal_cleaned_5.info()\n",
    "dfTotal_cleaned_5.describe()"
   ],
   "metadata": {
    "collapsed": false,
    "pycharm": {
     "name": "#%%\n"
    }
   }
  },
  {
   "cell_type": "code",
   "execution_count": null,
   "outputs": [],
   "source": [
    "dfTotal_cleaned_5.PROD_COST_PRICE = dfTotal_cleaned_5.PROD_COST_PRICE.str.replace(',', '')\n",
    "dfTotal_cleaned_5.PROD_COST_PRICE = dfTotal_cleaned_5.PROD_COST_PRICE.str.replace('DKK', '')\n",
    "dfTotal_cleaned_5.PROD_COST_PRICE = pd.to_numeric(dfTotal_cleaned_5.PROD_COST_PRICE)"
   ],
   "metadata": {
    "collapsed": false,
    "pycharm": {
     "name": "#%%\n"
    }
   }
  },
  {
   "cell_type": "code",
   "execution_count": null,
   "outputs": [],
   "source": [
    "dfTotal_cleaned_5.PROD_COST_PRICE = dfTotal_cleaned_5.PROD_COST_PRICE.div(10)"
   ],
   "metadata": {
    "collapsed": false,
    "pycharm": {
     "name": "#%%\n"
    }
   }
  },
  {
   "cell_type": "code",
   "execution_count": null,
   "outputs": [],
   "source": [
    "print(dfTotal_cleaned_5.PROD_COST_PRICE)"
   ],
   "metadata": {
    "collapsed": false,
    "pycharm": {
     "name": "#%%\n"
    }
   }
  },
  {
   "cell_type": "code",
   "execution_count": null,
   "outputs": [],
   "source": [
    "print(dfTotal_cleaned_5['PROD_WEIGHT'])"
   ],
   "metadata": {
    "collapsed": false,
    "pycharm": {
     "name": "#%%\n"
    }
   }
  },
  {
   "cell_type": "code",
   "execution_count": null,
   "outputs": [],
   "source": [
    "print(\"Skewness: %f\" % dfTotal_cleaned_5['PROD_WEIGHT'].skew())\n",
    "print(\"Kurtosis: %f\" % dfTotal_cleaned_5['PROD_WEIGHT'].kurt())"
   ],
   "metadata": {
    "collapsed": false,
    "pycharm": {
     "name": "#%%\n"
    }
   }
  },
  {
   "cell_type": "code",
   "execution_count": null,
   "outputs": [],
   "source": [
    "print(\"Skewness: %f\" % dfTotal_cleaned_5['PROD_RETAIL_PRICE'].skew())\n",
    "print(\"Kurtosis: %f\" % dfTotal_cleaned_5['PROD_RETAIL_PRICE'].kurt())"
   ],
   "metadata": {
    "collapsed": false,
    "pycharm": {
     "name": "#%%\n"
    }
   }
  },
  {
   "cell_type": "code",
   "execution_count": null,
   "outputs": [],
   "source": [
    "print(\"Skewness: %f\" % dfTotal_cleaned_5['PROD_COST_PRICE'].skew())\n",
    "print(\"Kurtosis: %f\" % dfTotal_cleaned_5['PROD_COST_PRICE'].kurt())"
   ],
   "metadata": {
    "collapsed": false,
    "pycharm": {
     "name": "#%%\n"
    }
   }
  },
  {
   "cell_type": "code",
   "execution_count": null,
   "outputs": [],
   "source": [
    "print(\"Skewness: %f\" % dfTotal_cleaned_5['UNIT_PRICE'].skew())\n",
    "print(\"Kurtosis: %f\" % dfTotal_cleaned_5['UNIT_PRICE'].kurt())"
   ],
   "metadata": {
    "collapsed": false,
    "pycharm": {
     "name": "#%%\n"
    }
   }
  },
  {
   "cell_type": "code",
   "execution_count": null,
   "outputs": [],
   "source": [
    "weight_zero = dfTotal_cleaned_5[dfTotal_cleaned_5['PROD_WEIGHT'] == 0.0].index\n",
    "weight_over_four = dfTotal_cleaned_5[dfTotal_cleaned_5['PROD_WEIGHT'] > 4].index\n",
    "dfTotal_cleaned_5_no_zero_weight = dfTotal_cleaned_5['PROD_WEIGHT'].drop(weight_zero, inplace=True)\n",
    "dfTotal_cleaned_5_no_zero_weight = dfTotal_cleaned_5['PROD_WEIGHT'].drop(weight_over_four, inplace=True)\n",
    "weight_low = dfTotal_cleaned_5[dfTotal_cleaned_5['PROD_WEIGHT'] < 4].index\n",
    "sns.displot(dfTotal_cleaned_5_no_zero_weight, bins=50)\n",
    "#sns.displot(dfTotal_cleaned_5_no_zero_weight, kind=\"kde\")"
   ],
   "metadata": {
    "collapsed": false,
    "pycharm": {
     "name": "#%%\n"
    }
   }
  },
  {
   "cell_type": "code",
   "execution_count": null,
   "outputs": [],
   "source": [
    "dfTotal_cleaned_5_high_weight = dfTotal_cleaned_5['PROD_WEIGHT'].drop(weight_low, inplace=True)\n",
    "sns.displot(dfTotal_cleaned_5_high_weight)\n",
    "#sns.displot(dfTotal_cleaned_5_high_weight, kind=\"kde\")"
   ],
   "metadata": {
    "collapsed": false,
    "pycharm": {
     "name": "#%%\n"
    }
   }
  },
  {
   "cell_type": "code",
   "execution_count": null,
   "outputs": [],
   "source": [
    "weight_zero_prp = dfTotal_cleaned_5[dfTotal_cleaned_5['PROD_RETAIL_PRICE'] == 0.0].index\n",
    "dfTotal_cleaned_5_no_zero_weight_prp = dfTotal_cleaned_5['PROD_RETAIL_PRICE'].drop(weight_zero_prp, inplace=True)\n",
    "sns.displot(dfTotal_cleaned_5_no_zero_weight_prp, bins=50)\n",
    "#sns.displot(dfTotal_cleaned_5_no_zero_weight_prp, kind=\"kde\")"
   ],
   "metadata": {
    "collapsed": false,
    "pycharm": {
     "name": "#%%\n"
    }
   }
  },
  {
   "cell_type": "code",
   "execution_count": null,
   "outputs": [],
   "source": [
    "weight_zero_pcp = dfTotal_cleaned_5[dfTotal_cleaned_5['PROD_COST_PRICE'] == 0.0].index\n",
    "dfTotal_cleaned_5_no_zero_weight_pcp = dfTotal_cleaned_5['PROD_COST_PRICE'].drop(weight_zero_pcp, inplace=True)\n",
    "sns.displot(dfTotal_cleaned_5_no_zero_weight_pcp, bins=50)\n",
    "#sns.displot(dfTotal_cleaned_5_no_zero_weight_pcp, kind=\"kde\")"
   ],
   "metadata": {
    "collapsed": false,
    "pycharm": {
     "name": "#%%\n"
    }
   }
  },
  {
   "cell_type": "code",
   "execution_count": null,
   "outputs": [],
   "source": [
    "weight_zero_up = dfTotal_cleaned_5[dfTotal_cleaned_5['UNIT_PRICE'] == 0.0].index\n",
    "dfTotal_cleaned_5_no_zero_weight_up = dfTotal_cleaned_5['UNIT_PRICE'].drop(weight_zero_up, inplace=True)\n",
    "sns.displot(dfTotal_cleaned_5['UNIT_PRICE'], bins=50)\n",
    "#sns.displot(dfTotal_cleaned_5['UNIT_PRICE'], kind=\"kde\")"
   ],
   "metadata": {
    "collapsed": false,
    "pycharm": {
     "name": "#%%\n"
    }
   }
  },
  {
   "cell_type": "code",
   "execution_count": null,
   "outputs": [],
   "source": [
    "print(dfTotal_cleaned_5_no_zero_weight_up)"
   ],
   "metadata": {
    "collapsed": false,
    "pycharm": {
     "name": "#%%\n"
    }
   }
  }
 ],
 "metadata": {
  "kernelspec": {
   "display_name": "Python 3",
   "language": "python",
   "name": "python3"
  },
  "language_info": {
   "codemirror_mode": {
    "name": "ipython",
    "version": 2
   },
   "file_extension": ".py",
   "mimetype": "text/x-python",
   "name": "python",
   "nbconvert_exporter": "python",
   "pygments_lexer": "ipython2",
   "version": "2.7.6"
  }
 },
 "nbformat": 4,
 "nbformat_minor": 0
}