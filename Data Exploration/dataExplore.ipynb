{
 "cells": [
  {
   "cell_type": "code",
   "execution_count": null,
   "outputs": [],
   "source": [
    "import pandas as pd\n",
    "import glob\n",
    "import os\n",
    "import numpy as np\n",
    "from statistics import mean\n",
    "import seaborn as sns\n",
    "import matplotlib.pyplot as plt\n",
    "DanDomain = \"C:/Users/surface/Desktop/YouWe/MLDM/Data/Raw Data\""
   ],
   "metadata": {
    "collapsed": false,
    "pycharm": {
     "name": "#%%\n"
    }
   }
  },
  {
   "cell_type": "code",
   "execution_count": null,
   "outputs": [],
   "source": [
    "files = glob.glob(DanDomain)\n",
    "names = [os.path.basename(f) for f in files]\n",
    "print(names)"
   ],
   "metadata": {
    "collapsed": false,
    "pycharm": {
     "name": "#%%\n"
    }
   }
  },
  {
   "cell_type": "code",
   "execution_count": null,
   "outputs": [],
   "source": [
    "print(\"Number of shops:\", len(names))"
   ],
   "metadata": {
    "collapsed": false,
    "pycharm": {
     "name": "#%%\n"
    }
   }
  },
  {
   "cell_type": "code",
   "execution_count": null,
   "outputs": [],
   "source": [
    "columns=['PROD_NUM', 'LANGUAGE_ID', 'PROD_NAME', 'PROD_WEIGHT', 'PROD_SORT',\n",
    "       'PROD_MIN_BUY', 'PROD_MIN_BUY_B2B', 'PROD_MAX_BUY', 'PROD_PHOTO_URL',\n",
    "       'PROD_FILE_URL', 'PROD_PDF_URL', 'PROD_PDF_URL_2', 'PROD_PDF_URL_3',\n",
    "       'PROD_PDF_URL_TEXT', 'PROD_PDF_URL_TEXT_2', 'PROD_PDF_URL_TEXT_3',\n",
    "       'PROD_RETAIL_PRICE', 'PROD_COST_PRICE', 'PROD_VAR_MASTER',\n",
    "       'CURRENCY_CODE', 'UNIT_PRICE', 'PROD_NOTES', 'PROD_PICTURE_ALT_TEXT',\n",
    "       'PROD_SITE_SPECIFIC_SORTING', 'VENDOR_NUM', 'PROD_UNIT_ID',\n",
    "       'PROD_TYPE_ID', 'PROD_HIDDEN', 'PROD_HIDDEN_PERIOD_ID', 'PROD_NEW',\n",
    "       'PROD_NEW_PERIOD_ID', 'PROD_FRONT_PAGE', 'PROD_FRONT_PAGE_PERIOD_ID',\n",
    "       'PROD_VAR_MASTER_ID', 'TOPLIST_HIDDEN', 'INTERNAL_ID',\n",
    "       'PROD_UNIQUE_URL_NAME', 'DIRECT_LINK', 'PROD_BARCODE_NUMBER',\n",
    "       'PROD_GOOGLE_FEED_CATEGORY', 'OMIT_FROM_FREE_SHIPPING_LIMIT',\n",
    "       'PROD_SHOW_ON_GOOGLE_FEED', 'PROD_SHOW_ON_FACEBOOK_FEED', 'STOCK_COUNT',\n",
    "       'STOCK_LIMIT', 'PROD_DELIVERY', 'PROD_DELIVERY_NOT_IN_STOCK',\n",
    "       'PROD_LOCATION_NUMBER', 'PROD_CREATED', 'PROD_CREATED_BY',\n",
    "       'PROD_EDITED', 'PROD_EDITED_BY', 'PROD_VIEWED', 'PROD_SALES_COUNT',\n",
    "       'DESC_SHORT', 'DESC_LONG', 'DESC_LONG_2', 'PROD_SEARCHWORD',\n",
    "       'META_DESCRIPTION', 'TITLE', 'FIELD_1', 'FIELD_2', 'FIELD_3', 'FIELD_4',\n",
    "       'FIELD_5', 'FIELD_6', 'FIELD_7', 'FIELD_8', 'FIELD_9', 'FIELD_10',\n",
    "       'PROD_CAT_ID', 'MANUFAC_ID']\n",
    "dfs = []\n",
    "unique_product_nums = []\n",
    "unique_product_names = []\n",
    "unique_language_ids = []\n",
    "for f in files:\n",
    "    df = pd.read_csv(f, error_bad_lines=False, engine='c', encoding=\"ISO-8859-1\", low_memory=False, skiprows=1)\n",
    "    dfs.append(df)\n",
    "    unique_product_nums.append((df['PROD_NUM']).nunique())\n",
    "    unique_product_names.append((df['PROD_NAME']).nunique())\n",
    "    unique_language_ids.append((df['LANGUAGE_ID']).nunique())\n",
    "    store_num_empty_cells = []\n",
    "    store_num_not_empty_cells = []\n",
    "    store_percent_used_cells = []\n",
    "    print(f)\n",
    "    idx = 0\n",
    "    for x in columns:\n",
    "        idx += 1\n",
    "        if x not in df:\n",
    "            missing_col = pd.Series()\n",
    "            df.insert(idx, x, missing_col)\n",
    "        store_num_empty_cells.append(df[x].isna().sum())\n",
    "        print(\"Empty\", x, \"cells:\", df[x].isna().sum())\n",
    "        store_num_not_empty_cells.append((len(df.index))-df[x].isna().sum())\n",
    "        print(\"Non-Empty\", x, \"cells:\", (len(df.index))-df[x].isna().sum())\n",
    "        store_percent_used_cells.append(100-((100*df[x].isna().sum())/len(df.index)))\n",
    "        print(\"Percent empty\", x, \"cells:\", \"%.2f\" % ((100*df[x].isna().sum())/len(df.index)), \"%\")\n",
    "        print(\"\\n\")\n",
    "    plt.rcParams[\"figure.figsize\"] = (20,20)\n",
    "#     plt.bar(columns, store_num_empty_cells, color='r')\n",
    "#     plt.legend(fontsize=20)\n",
    "#     plt.xticks(rotation=90)\n",
    "#     plt.rcParams[\"figure.figsize\"] = (20,20)\n",
    "#     plt.show()\n",
    "#     plt.bar(columns, store_num_not_empty_cells, color='g')\n",
    "#     plt.legend(fontsize=20)\n",
    "#     plt.xticks(rotation=90)\n",
    "#     plt.rcParams[\"figure.figsize\"] = (20,20)\n",
    "#     plt.show()\n",
    "    plt.bar(columns, store_percent_used_cells, color='b')\n",
    "    plt.legend(fontsize=20)\n",
    "    plt.xticks(rotation=90)\n",
    "    plt.rcParams[\"figure.figsize\"] = (20,20)\n",
    "    plt.show()\n",
    "print(df.columns)\n",
    "dfTotal = pd.concat(dfs)\n"
   ],
   "metadata": {
    "collapsed": false,
    "pycharm": {
     "name": "#%%\n"
    }
   }
  },
  {
   "cell_type": "code",
   "execution_count": null,
   "outputs": [],
   "source": [
    "product_nums_per_shop = list(zip(names,unique_product_nums))\n",
    "print(\"unique product numbers per shop:\")\n",
    "for i in product_nums_per_shop:\n",
    "    print(i)\n",
    "plt.bar(names, unique_product_nums, color='r')\n",
    "plt.legend(fontsize=20)\n",
    "plt.xticks(rotation=90)\n",
    "plt.rcParams[\"figure.figsize\"] = (20,20)\n",
    "plt.show()"
   ],
   "metadata": {
    "collapsed": false,
    "pycharm": {
     "name": "#%%\n"
    }
   }
  },
  {
   "cell_type": "code",
   "execution_count": null,
   "outputs": [],
   "source": [
    "product_names_per_shop = list(zip(names,unique_product_names))\n",
    "print(\"unique product numbers per shop:\")\n",
    "for i in product_names_per_shop:\n",
    "    print(i)\n",
    "plt.bar(names, unique_product_names, color='g')\n",
    "plt.legend(fontsize=20)\n",
    "plt.xticks(rotation=90)\n",
    "plt.rcParams[\"figure.figsize\"] = (20,20)\n",
    "plt.show()"
   ],
   "metadata": {
    "collapsed": false,
    "pycharm": {
     "name": "#%%\n"
    }
   }
  },
  {
   "cell_type": "code",
   "execution_count": null,
   "outputs": [],
   "source": [
    "difference = []\n",
    "zipped_lists = zip(unique_product_nums, unique_product_names)\n",
    "for unique_product_nums_i, unique_product_names_i in zipped_lists:\n",
    "    difference.append(unique_product_nums_i-unique_product_names_i)\n",
    "diff_unique_prod_names_nums = list(zip(names, difference))\n",
    "print(\"Duplicate Products in shop based on product name and product num difference:\")\n",
    "for i in diff_unique_prod_names_nums:\n",
    "    print(i)\n",
    "plt.bar(names, difference, color='b')\n",
    "plt.legend(fontsize=20)\n",
    "plt.xticks(rotation=90)\n",
    "plt.rcParams[\"figure.figsize\"] = (20,20)\n",
    "plt.show()"
   ],
   "metadata": {
    "collapsed": false,
    "pycharm": {
     "name": "#%%\n"
    }
   }
  },
  {
   "cell_type": "code",
   "execution_count": null,
   "outputs": [],
   "source": [
    "print(\"Total Rows in all shops:\", len(dfTotal.index))\n",
    "print(\"Total Classes:\", dfTotal.shape[1])\n",
    "print(\"Mean amount of product numbers:\", \"%.0f\" % mean(unique_product_nums))\n",
    "print(\"Total unique product numbers:\", sum(unique_product_nums))\n",
    "print(\"Duplicate product numbers:\", len(dfTotal.index)-sum(unique_product_nums))\n",
    "print(\"Mean amount of product names:\", \"%.0f\" % mean(unique_product_names))\n",
    "print(\"Total unique product names:\", sum(unique_product_names))"
   ],
   "metadata": {
    "collapsed": false,
    "pycharm": {
     "name": "#%%\n"
    }
   }
  },
  {
   "cell_type": "code",
   "execution_count": null,
   "outputs": [],
   "source": [
    "lang_ids_per_shop = list(zip(names,unique_language_ids))\n",
    "print(\"unique languages per shop:\")\n",
    "for i in lang_ids_per_shop:\n",
    "    print(i)"
   ],
   "metadata": {
    "collapsed": false,
    "pycharm": {
     "name": "#%%\n"
    }
   }
  },
  {
   "cell_type": "code",
   "execution_count": null,
   "outputs": [],
   "source": [
    "print(\"Total unique language IDs:\", dfTotal['LANGUAGE_ID'].nunique())\n",
    "print(\"Average # of languages per shop:\", mean(unique_language_ids))"
   ],
   "metadata": {
    "collapsed": false,
    "pycharm": {
     "name": "#%%\n"
    }
   }
  },
  {
   "cell_type": "code",
   "execution_count": null,
   "outputs": [],
   "source": [
    "num_empty_cells = []\n",
    "num_not_empty_cells = []\n",
    "percent_used_cells = []\n",
    "for x in columns:\n",
    "    num_empty_cells.append(dfTotal[x].isna().sum())\n",
    "    print(\"Empty\", x, \"cells:\", dfTotal[x].isna().sum())\n",
    "    num_not_empty_cells.append((len(dfTotal.index))-dfTotal[x].isna().sum())\n",
    "    print(\"Non-Empty\", x, \"cells:\", (len(dfTotal.index))-dfTotal[x].isna().sum())\n",
    "    percent_used_cells.append(100-((100*dfTotal[x].isna().sum())/len(dfTotal.index)))\n",
    "    print(\"Percent used\", x, \"cells:\", \"%.2f\" % (100-((100*dfTotal[x].isna().sum())/len(dfTotal.index))), \"%\")\n",
    "    print(\"\\n\")\n"
   ],
   "metadata": {
    "collapsed": false,
    "pycharm": {
     "name": "#%%\n"
    }
   }
  },
  {
   "cell_type": "code",
   "execution_count": null,
   "outputs": [],
   "source": [
    "plt.bar(columns, num_empty_cells, color='r')\n",
    "plt.legend(fontsize=20)\n",
    "plt.xticks(rotation=90)\n",
    "plt.rcParams[\"figure.figsize\"] = (20,20)\n",
    "plt.show()"
   ],
   "metadata": {
    "collapsed": false,
    "pycharm": {
     "name": "#%%\n"
    }
   }
  },
  {
   "cell_type": "code",
   "execution_count": null,
   "outputs": [],
   "source": [
    "plt.bar(columns, num_not_empty_cells, color='g')\n",
    "plt.legend(fontsize=20)\n",
    "plt.xticks(rotation=90)\n",
    "plt.rcParams[\"figure.figsize\"] = (20,20)\n",
    "plt.show()"
   ],
   "metadata": {
    "collapsed": false,
    "pycharm": {
     "name": "#%%\n"
    }
   }
  },
  {
   "cell_type": "code",
   "execution_count": null,
   "outputs": [],
   "source": [
    "#percent_empty_cells.sort()\n",
    "plt.bar(columns, percent_used_cells, color='b')\n",
    "plt.legend(fontsize=20)\n",
    "plt.xticks(rotation=90)\n",
    "plt.rcParams[\"figure.figsize\"] = (20,20)\n",
    "plt.show()"
   ],
   "metadata": {
    "collapsed": false,
    "pycharm": {
     "name": "#%%\n"
    }
   }
  },
  {
   "cell_type": "code",
   "execution_count": null,
   "outputs": [],
   "source": [
    "dfTotal.info()"
   ],
   "metadata": {
    "collapsed": false,
    "pycharm": {
     "name": "#%%\n"
    }
   }
  },
  {
   "cell_type": "code",
   "execution_count": null,
   "outputs": [],
   "source": [
    "dfTotal.describe()"
   ],
   "metadata": {
    "collapsed": false,
    "pycharm": {
     "name": "#%%\n"
    }
   }
  },
  {
   "cell_type": "code",
   "execution_count": null,
   "outputs": [],
   "source": [
    "dfTotal.shape"
   ],
   "metadata": {
    "collapsed": false,
    "pycharm": {
     "name": "#%%\n"
    }
   }
  },
  {
   "cell_type": "code",
   "execution_count": null,
   "outputs": [],
   "source": [
    "duplicate_dfTotal = dfTotal[dfTotal.duplicated()]\n",
    "print(\"Number of duplicate rows:\", duplicate_dfTotal.shape)"
   ],
   "metadata": {
    "collapsed": false,
    "pycharm": {
     "name": "#%%\n"
    }
   }
  },
  {
   "cell_type": "code",
   "execution_count": null,
   "outputs": [],
   "source": [
    "def findOutliers(column):\n",
    "    outliers = []\n",
    "    Q1 = column.quantile(.25)\n",
    "    Q3 = column.quantile(.75)\n",
    "    IQR = Q3-Q1\n",
    "    lower_limit = Q1-(1.5*IQR)\n",
    "    upper_limit = Q3+(1.5*IQR)\n",
    "    for outlier in column:\n",
    "        if outlier > upper_limit or outlier < lower_limit:\n",
    "            outliers.append(outlier)\n",
    "    return np.array(outliers)\n",
    "\n",
    "weight_as_int = (dfTotal.PROD_WEIGHT.dropna().str.replace(',', '')).astype(np.int64)\n",
    "print(\"number of outliers PROD_WEIGHT:\", len(findOutliers(weight_as_int)))\n",
    "print(\"number of outliers PROD_MIN_BUY:\", len(findOutliers(dfTotal.PROD_MIN_BUY)))\n",
    "print(\"number of outliers STOCK_COUNT:\", len(findOutliers(dfTotal.STOCK_COUNT)))\n",
    "print(\"number of outliers STOCK_LIMIT:\", len(findOutliers(dfTotal.STOCK_LIMIT)))\n",
    "print(\"number of outliers PROD_VIEWED:\", len(findOutliers(dfTotal.PROD_VIEWED)))\n",
    "print(\"number of outliers PROD_SALES_COUNT:\", len(findOutliers(dfTotal.PROD_SALES_COUNT)))\n",
    "#retail_price_as_int = (dfTotal.PROD_RETAIL_PRICE.dropna().str.replace(',', '')).astype(np.int64)\n",
    "#print(\"number of outliers PROD_RETAIL_PRICE:\", len(findOutliers(retail_price_as_int)))\n",
    "#cost_price_as_int = (dfTotal.PROD_COST_PRICE.dropna().str.replace(',', '')).astype(np.int64)\n",
    "#print(\"number of outliers PROD_COST_PRICE:\", len(findOutliers(cost_price_as_int)))\n",
    "#unit_price_as_int = (dfTotal.UNIT_PRICE.dropna().str.replace(',', '')).astype(np.int64)\n",
    "#print(\"number of outliers UNIT_PRICE:\", len(findOutliers(unit_price_as_int)))\n"
   ],
   "metadata": {
    "collapsed": false,
    "pycharm": {
     "name": "#%%\n"
    }
   }
  },
  {
   "cell_type": "code",
   "execution_count": null,
   "outputs": [],
   "source": [
    "dfTotal.nunique(axis=0)\n",
    "dfTotal.describe().apply(lambda s: s.apply(lambda x: format(x, 'f')))"
   ],
   "metadata": {
    "collapsed": false,
    "pycharm": {
     "name": "#%%\n"
    }
   }
  },
  {
   "cell_type": "code",
   "execution_count": null,
   "outputs": [],
   "source": [
    "# number refers to % threshold of unused fields to be removed\n",
    "dfTotal_cleaned_75 = dfTotal.drop(['PROD_MIN_BUY_B2B', 'PROD_FILE_URL', 'PROD_PDF_URL', 'PROD_PDF_URL_2', 'PROD_PDF_URL_3',\n",
    "                                  'PROD_PDF_URL_TEXT', 'PROD_PDF_URL_TEXT_2', 'PROD_PDF_URL_TEXT_3', 'PROD_NOTES',\n",
    "                                  'PROD_PICTURE_ALT_TEXT', 'PROD_HIDDEN_PERIOD_ID', 'PROD_NEW_PERIOD_ID', 'PROD_FRONT_PAGE_PERIOD_ID',\n",
    "                                  'PROD_UNIQUE_URL_NAME', 'PROD_BARCODE_NUMBER', 'PROD_GOOGLE_FEED_CATEGORY',\n",
    "                                  'PROD_DELIVERY_NOT_IN_STOCK', 'PROD_LOCATION_NUMBER', 'DESC_SHORT' ,'DESC_LONG_2',\n",
    "                                  'PROD_SEARCHWORD', 'META_DESCRIPTION', 'TITLE', 'FIELD_1', 'FIELD_2','FIELD_3', 'FIELD_4',\n",
    "                                  'FIELD_5', 'FIELD_6', 'FIELD_7', 'FIELD_8', 'FIELD_9', 'FIELD_10', 'PROD_SHOW_ON_KELKOO_FEED',\n",
    "                                  'EDBPriser_NUM', 'PROD_SHOW_ON_PRICERUNNER_FEED' , 'PROD_DELIVERY'], axis=1)\n",
    "dfTotal_cleaned_51 = dfTotal_cleaned_75.drop(['PROD_UNIT_ID', 'PROD_VAR_MASTER_ID', 'PROD_CREATED_BY', 'MANUFAC_ID'], axis=1)\n",
    "dfTotal_cleaned_45 = dfTotal_cleaned_51.drop(['PROD_SORT', 'PROD_MIN_BUY', 'PROD_MAX_BUY', 'PROD_SITE_SPECIFIC_SORTING',\n",
    "                                             'VENDOR_NUM', 'PROD_HIDDEN', 'PROD_NEW', 'PROD_FRONT_PAGE', 'TOPLIST_HIDDEN',\n",
    "                                             'INTERNAL_ID', 'DIRECT_LINK', 'OMIT_FROM_FREE_SHIPPING_LIMIT', 'PROD_SHOW_ON_GOOGLE_FEED',\n",
    "                                             'PROD_SHOW_ON_FACEBOOK_FEED', 'STOCK_COUNT', 'STOCK_LIMIT', 'PROD_CREATED', 'PROD_EDITED',\n",
    "                                             'PROD_EDITED_BY', 'PROD_VIEWED', 'PROD_SALES_COUNT', 'PROD_TYPE_ID', 'PROD_CAT_ID'], axis=1)\n",
    "dfTotal_cleaned_10 = dfTotal_cleaned_45.drop(['DESC_LONG'], axis=1)\n",
    "dfTotal_cleaned_5 = dfTotal_cleaned_10.drop(['PROD_PHOTO_URL'], axis=1)\n",
    "\n",
    "print(\"Shape of data when removing cols which are at least 75% unused:\", dfTotal_cleaned_75.shape)\n",
    "print(\"Shape of data when removing cols which are at least 51% unused:\", dfTotal_cleaned_51.shape)\n",
    "print(\"Shape of data when removing cols which are at least 45% unused:\", dfTotal_cleaned_45.shape)\n",
    "print(\"Shape of data when removing cols which are at least 10% unused:\", dfTotal_cleaned_10.shape)\n",
    "print(\"Shape of data when removing cols which are at least 5% unused:\", dfTotal_cleaned_5.shape)\n",
    "print(\"Columns of df which are at least 5% used:\", dfTotal_cleaned_5.columns)\n",
    "print(\"This leaves us with 9 categories, of which 3 are price, meaning we are left with 7: 'PROD_NUM', 'LANGUAGE_ID'\",\n",
    "      \"'PROD_NAME', 'PROD_WEIGHT', 'PROD_VAR_MASTER','CURRENCY_CODE', 'UNIT_PRICE'\")"
   ],
   "metadata": {
    "collapsed": false,
    "pycharm": {
     "name": "#%%\n"
    }
   }
  },
  {
   "cell_type": "code",
   "execution_count": null,
   "outputs": [],
   "source": [
    "# NA_val = df_cleaned.isna().sum()def na_filter(na, threshold = .4): #only select variables that passees the threshold\n",
    "#     col_pass = []\n",
    "#     for i in na.keys():\n",
    "#         if na[i]/df_cleaned.shape[0]<threshold:\n",
    "#             col_pass.append(i)\n",
    "#     return col_passdf_cleaned = df_cleaned[na_filter(NA_val)]\n",
    "# df_cleaned.columns\n",
    "\n",
    "#could use this code to select thresholds"
   ],
   "metadata": {
    "collapsed": false,
    "pycharm": {
     "name": "#%%\n"
    }
   }
  },
  {
   "cell_type": "code",
   "execution_count": null,
   "outputs": [],
   "source": [
    "dfTotal_cleaned_5.info()\n",
    "dfTotal_cleaned_5.describe()"
   ],
   "metadata": {
    "collapsed": false,
    "pycharm": {
     "name": "#%%\n"
    }
   }
  },
  {
   "cell_type": "code",
   "execution_count": null,
   "outputs": [],
   "source": [
    "dfTotal_cleaned_5.PROD_WEIGHT=(dfTotal_cleaned_5.PROD_WEIGHT.dropna()).astype(str)\n",
    "dfTotal_cleaned_5.PROD_WEIGHT=dfTotal_cleaned_5.PROD_WEIGHT.str.replace(',', '')\n",
    "dfTotal_cleaned_5.PROD_WEIGHT=(dfTotal_cleaned_5.PROD_WEIGHT.dropna()).astype(float)\n",
    "dfTotal_cleaned_5['PROD_WEIGHT']=dfTotal_cleaned_5.PROD_WEIGHT.div(10000)\n",
    "weight_too_high = dfTotal_cleaned_5[dfTotal_cleaned_5['PROD_WEIGHT'] > 10000].index\n",
    "dfTotal_cleaned_5.drop(weight_too_high, inplace=True)\n",
    "print(\"done converting PROD_WEIGHT to float and removing commas\")\n",
    "print(dfTotal_cleaned_5['PROD_WEIGHT'].shape)\n",
    "print(len(dfTotal_cleaned_5['PROD_WEIGHT'].isnull()))\n",
    "print(dfTotal_cleaned_5['PROD_WEIGHT'].max())\n",
    "dfTotal_cleaned_5['PROD_WEIGHT'].head(1000)"
   ],
   "metadata": {
    "collapsed": false,
    "pycharm": {
     "name": "#%%\n"
    }
   }
  },
  {
   "cell_type": "code",
   "execution_count": null,
   "outputs": [],
   "source": [
    "print(dfTotal_cleaned_5['PROD_NUM'].shape)\n",
    "print(len(dfTotal_cleaned_5['PROD_NUM'].isnull()))\n",
    "dfTotal_cleaned_5['PROD_NUM'].head(1000)"
   ],
   "metadata": {
    "collapsed": false,
    "pycharm": {
     "name": "#%%\n"
    }
   }
  },
  {
   "cell_type": "code",
   "execution_count": null,
   "outputs": [],
   "source": [
    "# dfTotal_cleaned_5.PROD_RETAIL_PRICE = (dfTotal_cleaned_5.PROD_RETAIL_PRICE.dropna()).astype(str)\n",
    "# dfTotal_cleaned_5.PROD_RETAIL_PRICE = dfTotal_cleaned_5.PROD_RETAIL_PRICE.str.replace(',', '')\n",
    "# dfTotal_cleaned_5.PROD_RETAIL_PRICE = (dfTotal_cleaned_5.PROD_RETAIL_PRICE.dropna()).astype(float)\n",
    "# dfTotal_cleaned_5.PROD_RETAIL_PRICE = dfTotal_cleaned_5['PROD_RETAIL_PRICE'].div(100)\n",
    "# print(\"done converting PROD_RETAIL_PRICE to float and removing commas\")\n",
    "# print(dfTotal_cleaned_5['PROD_RETAIL_PRICE'].shape)\n",
    "# print(len(dfTotal_cleaned_5['PROD_RETAIL_PRICE'].isnull()))\n",
    "# print(dfTotal_cleaned_5['PROD_RETAIL_PRICE'].max())\n",
    "# dfTotal_cleaned_5['PROD_RETAIL_PRICE'].head(1000)"
   ],
   "metadata": {
    "collapsed": false,
    "pycharm": {
     "name": "#%%\n"
    }
   }
  },
  {
   "cell_type": "code",
   "execution_count": null,
   "outputs": [],
   "source": [
    "# from re import sub\n",
    "# from decimal import Decimal\n",
    "\n",
    "# money = '6,312,312.12 DKK'\n",
    "# value = Decimal(sub(r'[^\\d.]', '', money))\n",
    "# print(value)"
   ],
   "metadata": {
    "collapsed": false,
    "pycharm": {
     "name": "#%%\n"
    }
   }
  },
  {
   "cell_type": "code",
   "execution_count": null,
   "outputs": [],
   "source": [
    "dfTotal_cleaned_5.PROD_COST_PRICE = (dfTotal_cleaned_5.PROD_COST_PRICE.dropna()).astype(str)\n",
    "dfTotal_cleaned_5.PROD_COST_PRICE = dfTotal_cleaned_5.PROD_COST_PRICE.str.replace(',', '')\n",
    "dfTotal_cleaned_5.PROD_COST_PRICE = dfTotal_cleaned_5.PROD_COST_PRICE.str.replace('DKK', '')\n",
    "dfTotal_cleaned_5.PROD_COST_PRICE = pd.to_numeric(dfTotal_cleaned_5.PROD_COST_PRICE)\n",
    "print(dfTotal_cleaned_5.PROD_COST_PRICE)\n",
    "dfTotal_cleaned_5.PROD_COST_PRICE = dfTotal_cleaned_5.PROD_COST_PRICE.astype(float)\n",
    "dfTotal_cleaned_5.PROD_COST_PRICE = dfTotal_cleaned_5.PROD_COST_PRICE.div(10)\n",
    "print(\"done converting PROD_COST_PRICE to currency\")\n",
    "print(dfTotal_cleaned_5['PROD_COST_PRICE'].shape)\n",
    "print(len(dfTotal_cleaned_5['PROD_COST_PRICE'].isnull()))\n",
    "print(dfTotal_cleaned_5['PROD_COST_PRICE'].max())\n",
    "dfTotal_cleaned_5['PROD_COST_PRICE'].head(1000)"
   ],
   "metadata": {
    "collapsed": false,
    "pycharm": {
     "name": "#%%\n"
    }
   }
  },
  {
   "cell_type": "code",
   "execution_count": null,
   "outputs": [],
   "source": [
    "\n",
    "print(len(dfTotal_cleaned_5.UNIT_PRICE[dfTotal_cleaned_5.UNIT_PRICE.index.duplicated()]))\n",
    "print(dfTotal_cleaned_5.UNIT_PRICE.isna().sum())\n"
   ],
   "metadata": {
    "collapsed": false,
    "pycharm": {
     "name": "#%%\n"
    }
   }
  },
  {
   "cell_type": "code",
   "execution_count": null,
   "outputs": [],
   "source": [
    "\n",
    "dfTotal_cleaned_5.UNIT_PRICE = (dfTotal_cleaned_5.UNIT_PRICE).apply(str)\n",
    "dfTotal_cleaned_5.UNIT_PRICE = dfTotal_cleaned_5.UNIT_PRICE.str.replace(',', '')\n",
    "dfTotal_cleaned_5.UNIT_PRICE = (dfTotal_cleaned_5.UNIT_PRICE.dropna()).astype(float)\n",
    "dfTotal_cleaned_5.UNIT_PRICE = dfTotal_cleaned_5['UNIT_PRICE'].div(100)\n",
    "print(\"done converting UNIT_PRICE to float and removing commas\")\n",
    "print(dfTotal_cleaned_5['UNIT_PRICE'].shape)\n",
    "print(len(dfTotal_cleaned_5['UNIT_PRICE'].isnull()))\n",
    "print(dfTotal_cleaned_5['UNIT_PRICE'].max())\n",
    "dfTotal_cleaned_5['UNIT_PRICE'].head(1000)"
   ],
   "metadata": {
    "collapsed": false,
    "pycharm": {
     "name": "#%%\n"
    }
   }
  },
  {
   "cell_type": "code",
   "execution_count": null,
   "outputs": [],
   "source": [
    "dfTotal_cleaned_5 = dfTotal_cleaned_5.dropna(how='any',axis=0)\n",
    "\n",
    "dfTotal_cleaned_5.info()\n",
    "dfTotal_cleaned_5.describe()"
   ],
   "metadata": {
    "collapsed": false,
    "pycharm": {
     "name": "#%%\n"
    }
   }
  },
  {
   "cell_type": "code",
   "execution_count": null,
   "outputs": [],
   "source": [
    "dfTotal_cleaned_5.PROD_COST_PRICE = dfTotal_cleaned_5.PROD_COST_PRICE.str.replace(',', '')\n",
    "dfTotal_cleaned_5.PROD_COST_PRICE = dfTotal_cleaned_5.PROD_COST_PRICE.str.replace('DKK', '')\n",
    "dfTotal_cleaned_5.PROD_COST_PRICE = pd.to_numeric(dfTotal_cleaned_5.PROD_COST_PRICE)"
   ],
   "metadata": {
    "collapsed": false,
    "pycharm": {
     "name": "#%%\n"
    }
   }
  },
  {
   "cell_type": "code",
   "execution_count": null,
   "outputs": [],
   "source": [
    "dfTotal_cleaned_5.PROD_COST_PRICE = dfTotal_cleaned_5.PROD_COST_PRICE.div(10)"
   ],
   "metadata": {
    "collapsed": false,
    "pycharm": {
     "name": "#%%\n"
    }
   }
  },
  {
   "cell_type": "code",
   "execution_count": null,
   "outputs": [],
   "source": [
    "print(dfTotal_cleaned_5.PROD_COST_PRICE)"
   ],
   "metadata": {
    "collapsed": false,
    "pycharm": {
     "name": "#%%\n"
    }
   }
  },
  {
   "cell_type": "code",
   "execution_count": null,
   "outputs": [],
   "source": [
    "print(dfTotal_cleaned_5['PROD_WEIGHT'])"
   ],
   "metadata": {
    "collapsed": false,
    "pycharm": {
     "name": "#%%\n"
    }
   }
  },
  {
   "cell_type": "code",
   "execution_count": null,
   "outputs": [],
   "source": [
    "print(\"Skewness: %f\" % dfTotal_cleaned_5['PROD_WEIGHT'].skew())\n",
    "print(\"Kurtosis: %f\" % dfTotal_cleaned_5['PROD_WEIGHT'].kurt())"
   ],
   "metadata": {
    "collapsed": false,
    "pycharm": {
     "name": "#%%\n"
    }
   }
  },
  {
   "cell_type": "code",
   "execution_count": null,
   "outputs": [],
   "source": [
    "print(\"Skewness: %f\" % dfTotal_cleaned_5['PROD_RETAIL_PRICE'].skew())\n",
    "print(\"Kurtosis: %f\" % dfTotal_cleaned_5['PROD_RETAIL_PRICE'].kurt())"
   ],
   "metadata": {
    "collapsed": false,
    "pycharm": {
     "name": "#%%\n"
    }
   }
  },
  {
   "cell_type": "code",
   "execution_count": null,
   "outputs": [],
   "source": [
    "print(\"Skewness: %f\" % dfTotal_cleaned_5['PROD_COST_PRICE'].skew())\n",
    "print(\"Kurtosis: %f\" % dfTotal_cleaned_5['PROD_COST_PRICE'].kurt())"
   ],
   "metadata": {
    "collapsed": false,
    "pycharm": {
     "name": "#%%\n"
    }
   }
  },
  {
   "cell_type": "code",
   "execution_count": null,
   "outputs": [],
   "source": [
    "print(\"Skewness: %f\" % dfTotal_cleaned_5['UNIT_PRICE'].skew())\n",
    "print(\"Kurtosis: %f\" % dfTotal_cleaned_5['UNIT_PRICE'].kurt())"
   ],
   "metadata": {
    "collapsed": false,
    "pycharm": {
     "name": "#%%\n"
    }
   }
  },
  {
   "cell_type": "code",
   "execution_count": null,
   "outputs": [],
   "source": [
    "weight_zero = dfTotal_cleaned_5[dfTotal_cleaned_5['PROD_WEIGHT'] == 0.0].index\n",
    "weight_over_four = dfTotal_cleaned_5[dfTotal_cleaned_5['PROD_WEIGHT'] > 4].index\n",
    "dfTotal_cleaned_5_no_zero_weight = dfTotal_cleaned_5['PROD_WEIGHT'].drop(weight_zero, inplace=True)\n",
    "dfTotal_cleaned_5_no_zero_weight = dfTotal_cleaned_5['PROD_WEIGHT'].drop(weight_over_four, inplace=True)\n",
    "weight_low = dfTotal_cleaned_5[dfTotal_cleaned_5['PROD_WEIGHT'] < 4].index\n",
    "sns.displot(dfTotal_cleaned_5_no_zero_weight, bins=50)\n",
    "#sns.displot(dfTotal_cleaned_5_no_zero_weight, kind=\"kde\")"
   ],
   "metadata": {
    "collapsed": false,
    "pycharm": {
     "name": "#%%\n"
    }
   }
  },
  {
   "cell_type": "code",
   "execution_count": null,
   "outputs": [],
   "source": [
    "dfTotal_cleaned_5_high_weight = dfTotal_cleaned_5['PROD_WEIGHT'].drop(weight_low, inplace=True)\n",
    "sns.displot(dfTotal_cleaned_5_high_weight)\n",
    "#sns.displot(dfTotal_cleaned_5_high_weight, kind=\"kde\")"
   ],
   "metadata": {
    "collapsed": false,
    "pycharm": {
     "name": "#%%\n"
    }
   }
  },
  {
   "cell_type": "code",
   "execution_count": null,
   "outputs": [],
   "source": [
    "weight_zero_prp = dfTotal_cleaned_5[dfTotal_cleaned_5['PROD_RETAIL_PRICE'] == 0.0].index\n",
    "dfTotal_cleaned_5_no_zero_weight_prp = dfTotal_cleaned_5['PROD_RETAIL_PRICE'].drop(weight_zero_prp, inplace=True)\n",
    "sns.displot(dfTotal_cleaned_5_no_zero_weight_prp, bins=50)\n",
    "#sns.displot(dfTotal_cleaned_5_no_zero_weight_prp, kind=\"kde\")"
   ],
   "metadata": {
    "collapsed": false,
    "pycharm": {
     "name": "#%%\n"
    }
   }
  },
  {
   "cell_type": "code",
   "execution_count": null,
   "outputs": [],
   "source": [
    "weight_zero_pcp = dfTotal_cleaned_5[dfTotal_cleaned_5['PROD_COST_PRICE'] == 0.0].index\n",
    "dfTotal_cleaned_5_no_zero_weight_pcp = dfTotal_cleaned_5['PROD_COST_PRICE'].drop(weight_zero_pcp, inplace=True)\n",
    "sns.displot(dfTotal_cleaned_5_no_zero_weight_pcp, bins=50)\n",
    "#sns.displot(dfTotal_cleaned_5_no_zero_weight_pcp, kind=\"kde\")"
   ],
   "metadata": {
    "collapsed": false,
    "pycharm": {
     "name": "#%%\n"
    }
   }
  },
  {
   "cell_type": "code",
   "execution_count": null,
   "outputs": [],
   "source": [
    "weight_zero_up = dfTotal_cleaned_5[dfTotal_cleaned_5['UNIT_PRICE'] == 0.0].index\n",
    "dfTotal_cleaned_5_no_zero_weight_up = dfTotal_cleaned_5['UNIT_PRICE'].drop(weight_zero_up, inplace=True)\n",
    "sns.displot(dfTotal_cleaned_5['UNIT_PRICE'], bins=50)\n",
    "#sns.displot(dfTotal_cleaned_5['UNIT_PRICE'], kind=\"kde\")"
   ],
   "metadata": {
    "collapsed": false,
    "pycharm": {
     "name": "#%%\n"
    }
   }
  },
  {
   "cell_type": "code",
   "execution_count": null,
   "outputs": [],
   "source": [
    "print(dfTotal_cleaned_5_no_zero_weight_up)"
   ],
   "metadata": {
    "collapsed": false,
    "pycharm": {
     "name": "#%%\n"
    }
   }
  }
 ],
 "metadata": {
  "kernelspec": {
   "display_name": "Python 3",
   "language": "python",
   "name": "python3"
  },
  "language_info": {
   "codemirror_mode": {
    "name": "ipython",
    "version": 2
   },
   "file_extension": ".py",
   "mimetype": "text/x-python",
   "name": "python",
   "nbconvert_exporter": "python",
   "pygments_lexer": "ipython2",
   "version": "2.7.6"
  }
 },
 "nbformat": 4,
 "nbformat_minor": 0
}