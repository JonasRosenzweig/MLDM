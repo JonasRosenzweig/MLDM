{
 "cells": [
  {
   "cell_type": "code",
   "execution_count": 1,
   "metadata": {
    "collapsed": true
   },
   "outputs": [
    {
     "name": "stdout",
     "output_type": "stream",
     "text": [
      "WARNING:tensorflow:Layer lstm will not use cuDNN kernel since it doesn't meet the cuDNN kernel criteria. It will use generic GPU kernel as fallback when running on GPU\n",
      "Model, Tokenizer and LabelEncoder loaded.\n",
      "Model loaded\n"
     ]
    }
   ],
   "source": [
    "import os\n",
    "import pandas as pd\n",
    "import pickle\n",
    "import keras\n",
    "from sklearn.preprocessing import LabelEncoder\n",
    "from keras.preprocessing import sequence\n",
    "\n",
    "model = keras.models.load_model(r'C:\\Users\\mail\\PycharmProjects\\MLDM\\Main\\Models\\organized\\6_class_MVP_v2.h5')\n",
    "tokenizer = pickle.load(open(r'C:\\Users\\mail\\PycharmProjects\\MLDM\\Main\\Models\\organized\\6_class_MVP_v2.pkl', 'rb'))\n",
    "le = LabelEncoder()\n",
    "print('Model, Tokenizer and LabelEncoder loaded.')\n",
    "\n",
    "def predictClass(text, tok, model):\n",
    "    text_pad = sequence.pad_sequences(tok.texts_to_sequences([text]), maxlen=300)\n",
    "    score = le.inverse_transform(model.predict_classes([text_pad]))\n",
    "    return score[0]\n",
    "\n",
    "print('Model loaded')\n"
   ]
  },
  {
   "cell_type": "code",
   "execution_count": 2,
   "outputs": [],
   "source": [
    "manual_map_Bisgaard = {0: 'EAN', 1: 'Unknown', 2: 'Description', 3: 'Description', 4: 'Unknown', 5: 'Description', 6: 'Unknown', 7: 'Amount',\n",
    "             8: 'Unknown', 9: 'Price', 10: 'Price', 11: 'Category', 12: 'Description', 13: 'Unknown', 14: 'Unknown', 15: 'Description',\n",
    "            16: 'Description', 17: 'Unknown', 18: 'Unknown', 19: 'Unknown', 20: 'Unknown', 21: 'Unknown', 22: 'Unknown', 23: 'Unknown',\n",
    "            24: 'Unknown', 25: 'Unknown'}\n",
    "manual_map_A_dataset = {0: 'Unknown', 1: 'Unknown', 2: 'Name', 3: 'Category', 4: 'Price', 5: 'EAN', 6: 'Unknown', 7: 'Amount', 8: 'Name',\n",
    "                       9: 'Unknown', 10: 'Unknown', 11: 'Unknown', 12: 'Unknown', 13: 'Unknown', 14: 'Unknown', 15: 'Unknown',16: 'Unknown',\n",
    "                       17: 'Unknown', 18: 'Description' }\n",
    "manual_map_A_Discount_bigbuy_da = {0: 'Unknown', 1: 'Category', 2: 'Name', 3: 'Description', 4: 'Description',\n",
    "                                   5: 'Amount'}\n",
    "manual_map_A_Discount_bigbuy_en = {0: 'Unknown', 1: 'Category', 2: 'Name', 3: 'Description', 4: 'Description',\n",
    "                                   5: 'Amount'}\n",
    "manual_map_A_Discount_Compressed1 = {0: 'Unknown', 1: 'Name', 2: 'Description', 3: 'EAN', 4: 'Category',\n",
    "                                     5: 'Category'}\n",
    "manual_map_A_Discount_Compressed2 = {0: 'Unknown', 1: 'Name', 2: 'Description', 3: 'EAN', 4:\n",
    "    'Category'}\n",
    "manual_map_A_Discount_presta_product_2399_da = {0: 'Unknown', 1: 'Name', 2: 'Price', 3: 'Price', 4: 'EAN',\n",
    "                                                5: 'Description', 6: 'Description'}\n",
    "manual_map_A_Discount_presta_product_2403_en = {0: 'Unknown', 1: 'Name', 2: 'Price', 3: 'Price', 4: 'Description',\n",
    "                                                5: 'Description'}\n",
    "manual_map_A_Discount_presta_product_2507_da = {0: 'Unknown', 1: 'Name', 2: 'Price', 3: 'Price', 4: 'Price', 5:\n",
    "    'EAN', 6: 'Description', 7: 'Description'}\n",
    "manual_map_A_Discount_presta_product_2507_en = {0: 'Unknown', 1: 'Name', 2: 'Price', 3: 'Price', 4: 'Price',\n",
    "                                                5: 'EAN', 6: 'Description', 7: 'Description'}\n",
    "manual_map_A_Discount_presta_product_2570_da = {0: 'Unknown', 1: 'Name', 2: 'Price', 3: 'Price', 4: 'Price',\n",
    "                                                5: 'EAN'}\n",
    "manual_map_A_Discount_presta_product_2570_en = {0: 'Unknown', 1: 'Name', 2: 'Price', 3: 'Price', 4: 'Price',\n",
    "                                                5: 'EAN'}\n",
    "manual_map_A_Discount_presta_product_2662_da = {0: 'Unknown', 1: 'Name', 2: 'Price', 3: 'Price', 4: 'Unknown',\n",
    "                                                5: 'EAN', 6: 'Description'}\n",
    "manual_map_A_Discount_presta_product_2662_en = {0: 'Unknown', 1: 'Name', 2: 'Price', 3: 'Price', 4: 'Unknown',\n",
    "                                                5: 'EAN', 6: 'Description', 7: 'Desription'}\n",
    "manual_map_A_Discount_presta_product_2678_da = {0: 'Unknown', 1: 'Name', 2: 'Price', 3: 'Price', 4: 'Unknown',\n",
    "                                                5: 'EAN', 6: 'Description'}\n",
    "manual_map_A_Discount_presta_product_2678_en = {0: 'Unknown', 1: 'Name', 2: 'Price', 3: 'Price', 4: 'Unknown',\n",
    "                                                5: 'EAN', 6: 'Description', 7: 'Description'}\n",
    "manual_map_A_Discount_presta_product_3046_da = {0: 'Unknown', 1: 'Name', 2: 'Price', 3: 'Price', 4: 'Price',\n",
    "                                                5: 'Unknown', 6: 'EAN', 7: 'Description', 8: 'Description'}\n",
    "manual_map_A_Discount_presta_product_3046_en = {0: 'Unknown', 1: 'Name', 2: 'Price', 3: 'Price', 4: 'Price',\n",
    "                                                5: 'Unknown', 6: 'EAN', 7: 'Description', 8: 'Description'}\n",
    "manual_map_Scand = {0: 'Unknown', 1: 'Name', 2: 'Unknown', 3: 'EAN', 4: 'Amount', 5: 'Amount', 6: 'Amount',\n",
    "                    7: 'Unknown', 8: 'Unknown',\n",
    "             9: 'Price', 10: 'Price', 11: 'Price', 12: 'Price', 13: 'Unknown'}\n",
    "manual_map_items = {0: 'Unknown', 1: 'EAN', 2:'Name', 3: 'Unknown', 4: 'Price', 5: 'Amount', 6: 'Amount',\n",
    "                    7: 'Unknown', 8: 'Unknown', 9: 'Unknown',\n",
    "                   10: 'Unknown', 11: 'Unknown', 12: 'Unknown' }\n",
    "manual_map_Joha = {0: 'Unknown', 1: 'Unknown', 2: 'Unknown', 3: 'Category', 4: 'Unknown', 5: 'EAN', 6: 'Amount',\n",
    "                   7: 'Unknown', 8: 'Price', 9: 'Unknown',\n",
    "                  10: 'Unknown', 11: 'Unknown', 12: 'Unknown', 13: 'Unknown', 14: 'Unknown', 15: 'Description',\n",
    "                   16: 'Unknown' }\n",
    "manual_map_Modern_classic_upstart = {0: 'Amount', 1: 'Unknown', 2: 'Name', 3: 'EAN', 4: 'EAN', 5: 'Amount',\n",
    "                                     6: 'Price', 7: 'Price', 8: 'Price', 9: 'Price'}\n",
    "manual_map_PIF = {0: 'Unknown', 1: 'Name', 2: 'EAN', 3: 'Unknown', 4: 'Unknown', 5: 'Unknown', 6: 'Unknown',\n",
    "                  7: 'Unknown',  8: 'Unknown'}\n",
    "manual_map_prisliste ={0: 'Unknown', 1: 'Description', 2: 'Unknown', 3: 'Unknown', 4: 'Unknown', 5: 'Amount',\n",
    "                       6: 'Unknown', 7: 'Unknown', 8: 'Unknown', 9: 'Price', 10: 'Unknown', 11: 'Price',\n",
    "                       12: 'Price', 13: 'Unknown', 14:\n",
    "                       'Unknown', 15: 'Unknown', 16: 'Unknown', 17: 'EAN', 18: 'Unknown', 19: 'Unknown',\n",
    "                       20: 'Unknown', 21:\n",
    "                       'Unknown', 22: 'Unknown', 23: 'Unknown', 24: 'Unknown', 25: 'Unknown', 26: 'Unknown',\n",
    "                       27: 'Unknown', 28: 'Unknown'}\n",
    "manual_map_VAREFIL = {0: 'Unknown', 1: 'EAN', 2: 'Name', 3: 'Name', 4: 'Category',  5: 'Price', 6: 'Unknown',\n",
    "                      7: 'Unknown', 8: 'Unknown'}\n",
    "manual_maps = [manual_map_A_dataset, manual_map_A_Discount_bigbuy_da, manual_map_A_Discount_bigbuy_en,\n",
    "               manual_map_A_Discount_Compressed1, manual_map_A_Discount_Compressed2, manual_map_A_Discount_presta_product_2399_da,\n",
    "               manual_map_A_Discount_presta_product_2403_en, manual_map_A_Discount_presta_product_2507_da,\n",
    "               manual_map_A_Discount_presta_product_2507_en, manual_map_A_Discount_presta_product_2570_da,\n",
    "               manual_map_A_Discount_presta_product_2570_en, manual_map_A_Discount_presta_product_2662_da,\n",
    "               manual_map_A_Discount_presta_product_2662_en, manual_map_A_Discount_presta_product_2678_da,\n",
    "               manual_map_A_Discount_presta_product_2678_en, manual_map_A_Discount_presta_product_3046_da,\n",
    "               manual_map_A_Discount_presta_product_3046_en, manual_map_Bisgaard, manual_map_Scand, manual_map_items,\n",
    "              manual_map_Joha, manual_map_Modern_classic_upstart, manual_map_PIF, manual_map_prisliste, manual_map_VAREFIL]\n",
    "\n",
    "from collections import Counter\n",
    "unknowns = []\n",
    "for l in range(len(manual_maps)):\n",
    "    unknowns.append(Counter(manual_maps[l].values())['Unknown'])"
   ],
   "metadata": {
    "collapsed": false,
    "pycharm": {
     "name": "#%%\n"
    }
   }
  },
  {
   "cell_type": "code",
   "execution_count": 3,
   "outputs": [
    {
     "name": "stdout",
     "output_type": "stream",
     "text": [
      "Starting mapping of all files in C:\\Users\\mail\\Downloads\\data\\Eval Datasets\n",
      "25 of 25 files remaining.\n",
      "{0: 'id', 1: 'sku', 2: 'title', 3: 'category', 4: 'Pris', 5: 'ean', 6: 'image', 7: 'stock', 8: 'brand', 9: 'weight_g', 10: 'length_mm', 11: 'width_mm', 12: 'height_mm', 13: 'hs_code', 14: 'country_of_origin', 15: 'Color', 16: 'Primary Color', 17: 'Region', 18: 'description'}\n",
      "------------- Mapping A_dataset.csv -------------\n"
     ]
    },
    {
     "name": "stderr",
     "output_type": "stream",
     "text": [
      "c:\\users\\mail\\pycharmprojects\\saleship\\venv\\lib\\site-packages\\tensorflow\\python\\keras\\engine\\sequential.py:450: UserWarning: `model.predict_classes()` is deprecated and will be removed after 2021-01-01. Please use instead:* `np.argmax(model.predict(x), axis=-1)`,   if your model does multi-class classification   (e.g. if it uses a `softmax` last-layer activation).* `(model.predict(x) > 0.5).astype(\"int32\")`,   if your model does binary classification   (e.g. if it uses a `sigmoid` last-layer activation).\n",
      "  warnings.warn('`model.predict_classes()` is deprecated and '\n"
     ]
    },
    {
     "name": "stdout",
     "output_type": "stream",
     "text": [
      "data: 235F6X , prediction: EAN\n",
      "data: 2384TB , prediction: EAN\n",
      "data: 238EB5 , prediction: EAN\n",
      "data: AJ6TU2 , prediction: EAN\n",
      "data: 234DW8 , prediction: EAN\n",
      "data: 2394EG , prediction: EAN\n",
      "data: 235PC7 , prediction: EAN\n",
      "data: 237GB4 , prediction: EAN\n",
      "data: 235AQ7 , prediction: EAN\n",
      "data: AM32GN , prediction: EAN\n",
      "data: 237V58 , prediction: EAN\n",
      "data: AG7Z9K , prediction: EAN\n",
      "data: 235T7E , prediction: EAN\n",
      "data: AN637D , prediction: EAN\n",
      "data: AD8V6Q , prediction: EAN\n",
      "data: AK593Y , prediction: EAN\n",
      "data: AR83SE , prediction: EAN\n",
      "data: 235KD7 , prediction: EAN\n",
      "data: AM8K3N , prediction: EAN\n",
      "data: AK642J , prediction: EAN\n",
      "data: 237J4K , prediction: EAN\n",
      "data: AK36ZH , prediction: EAN\n",
      "data: 237M4G , prediction: EAN\n",
      "data: 235YT6 , prediction: EAN\n",
      "data: 238E6T , prediction: EAN\n",
      "data: AJ46P7 , prediction: EAN\n",
      "data: 234QK8 , prediction: EAN\n",
      "data: AD5K9S , prediction: EAN\n",
      "data: 235F4N , prediction: EAN\n",
      "data: 235U97 , prediction: EAN\n"
     ]
    },
    {
     "ename": "KeyboardInterrupt",
     "evalue": "",
     "output_type": "error",
     "traceback": [
      "\u001B[1;31m---------------------------------------------------------------------------\u001B[0m",
      "\u001B[1;31mKeyboardInterrupt\u001B[0m                         Traceback (most recent call last)",
      "\u001B[1;32m<ipython-input-3-593ab39f0c1e>\u001B[0m in \u001B[0;36m<module>\u001B[1;34m\u001B[0m\n\u001B[0;32m     46\u001B[0m             \u001B[0mtargets\u001B[0m \u001B[1;33m=\u001B[0m \u001B[0mle\u001B[0m\u001B[1;33m.\u001B[0m\u001B[0mfit_transform\u001B[0m\u001B[1;33m(\u001B[0m\u001B[0mtargets\u001B[0m\u001B[1;33m)\u001B[0m\u001B[1;33m\u001B[0m\u001B[1;33m\u001B[0m\u001B[0m\n\u001B[0;32m     47\u001B[0m             \u001B[0mtext\u001B[0m \u001B[1;33m=\u001B[0m \u001B[0mdf_select\u001B[0m\u001B[1;33m[\u001B[0m\u001B[0mm\u001B[0m\u001B[1;33m]\u001B[0m\u001B[1;33m\u001B[0m\u001B[1;33m\u001B[0m\u001B[0m\n\u001B[1;32m---> 48\u001B[1;33m             \u001B[0mscore\u001B[0m \u001B[1;33m=\u001B[0m \u001B[0mpredictClass\u001B[0m\u001B[1;33m(\u001B[0m\u001B[0mtext\u001B[0m\u001B[1;33m,\u001B[0m \u001B[0mtokenizer\u001B[0m\u001B[1;33m,\u001B[0m \u001B[0mmodel\u001B[0m\u001B[1;33m)\u001B[0m\u001B[1;33m\u001B[0m\u001B[1;33m\u001B[0m\u001B[0m\n\u001B[0m\u001B[0;32m     49\u001B[0m             \u001B[0mlists\u001B[0m\u001B[1;33m[\u001B[0m\u001B[0mn\u001B[0m\u001B[1;33m]\u001B[0m\u001B[1;33m.\u001B[0m\u001B[0mappend\u001B[0m\u001B[1;33m(\u001B[0m\u001B[0mscore\u001B[0m\u001B[1;33m)\u001B[0m\u001B[1;33m\u001B[0m\u001B[1;33m\u001B[0m\u001B[0m\n\u001B[0;32m     50\u001B[0m             \u001B[0mprint\u001B[0m\u001B[1;33m(\u001B[0m\u001B[1;34m'data:'\u001B[0m\u001B[1;33m,\u001B[0m \u001B[0mtext\u001B[0m\u001B[1;33m,\u001B[0m \u001B[1;34m', prediction:'\u001B[0m\u001B[1;33m,\u001B[0m \u001B[0mscore\u001B[0m\u001B[1;33m)\u001B[0m\u001B[1;33m\u001B[0m\u001B[1;33m\u001B[0m\u001B[0m\n",
      "\u001B[1;32m<ipython-input-1-4da25e8de3d9>\u001B[0m in \u001B[0;36mpredictClass\u001B[1;34m(text, tok, model)\u001B[0m\n\u001B[0;32m     13\u001B[0m \u001B[1;32mdef\u001B[0m \u001B[0mpredictClass\u001B[0m\u001B[1;33m(\u001B[0m\u001B[0mtext\u001B[0m\u001B[1;33m,\u001B[0m \u001B[0mtok\u001B[0m\u001B[1;33m,\u001B[0m \u001B[0mmodel\u001B[0m\u001B[1;33m)\u001B[0m\u001B[1;33m:\u001B[0m\u001B[1;33m\u001B[0m\u001B[1;33m\u001B[0m\u001B[0m\n\u001B[0;32m     14\u001B[0m     \u001B[0mtext_pad\u001B[0m \u001B[1;33m=\u001B[0m \u001B[0msequence\u001B[0m\u001B[1;33m.\u001B[0m\u001B[0mpad_sequences\u001B[0m\u001B[1;33m(\u001B[0m\u001B[0mtok\u001B[0m\u001B[1;33m.\u001B[0m\u001B[0mtexts_to_sequences\u001B[0m\u001B[1;33m(\u001B[0m\u001B[1;33m[\u001B[0m\u001B[0mtext\u001B[0m\u001B[1;33m]\u001B[0m\u001B[1;33m)\u001B[0m\u001B[1;33m,\u001B[0m \u001B[0mmaxlen\u001B[0m\u001B[1;33m=\u001B[0m\u001B[1;36m300\u001B[0m\u001B[1;33m)\u001B[0m\u001B[1;33m\u001B[0m\u001B[1;33m\u001B[0m\u001B[0m\n\u001B[1;32m---> 15\u001B[1;33m     \u001B[0mscore\u001B[0m \u001B[1;33m=\u001B[0m \u001B[0mle\u001B[0m\u001B[1;33m.\u001B[0m\u001B[0minverse_transform\u001B[0m\u001B[1;33m(\u001B[0m\u001B[0mmodel\u001B[0m\u001B[1;33m.\u001B[0m\u001B[0mpredict_classes\u001B[0m\u001B[1;33m(\u001B[0m\u001B[1;33m[\u001B[0m\u001B[0mtext_pad\u001B[0m\u001B[1;33m]\u001B[0m\u001B[1;33m)\u001B[0m\u001B[1;33m)\u001B[0m\u001B[1;33m\u001B[0m\u001B[1;33m\u001B[0m\u001B[0m\n\u001B[0m\u001B[0;32m     16\u001B[0m     \u001B[1;32mreturn\u001B[0m \u001B[0mscore\u001B[0m\u001B[1;33m[\u001B[0m\u001B[1;36m0\u001B[0m\u001B[1;33m]\u001B[0m\u001B[1;33m\u001B[0m\u001B[1;33m\u001B[0m\u001B[0m\n\u001B[0;32m     17\u001B[0m \u001B[1;33m\u001B[0m\u001B[0m\n",
      "\u001B[1;32mc:\\users\\mail\\pycharmprojects\\saleship\\venv\\lib\\site-packages\\tensorflow\\python\\keras\\engine\\sequential.py\u001B[0m in \u001B[0;36mpredict_classes\u001B[1;34m(self, x, batch_size, verbose)\u001B[0m\n\u001B[0;32m    457\u001B[0m                   \u001B[1;34m'  if your model does binary classification '\u001B[0m\u001B[1;33m\u001B[0m\u001B[1;33m\u001B[0m\u001B[0m\n\u001B[0;32m    458\u001B[0m                   '  (e.g. if it uses a `sigmoid` last-layer activation).')\n\u001B[1;32m--> 459\u001B[1;33m     \u001B[0mproba\u001B[0m \u001B[1;33m=\u001B[0m \u001B[0mself\u001B[0m\u001B[1;33m.\u001B[0m\u001B[0mpredict\u001B[0m\u001B[1;33m(\u001B[0m\u001B[0mx\u001B[0m\u001B[1;33m,\u001B[0m \u001B[0mbatch_size\u001B[0m\u001B[1;33m=\u001B[0m\u001B[0mbatch_size\u001B[0m\u001B[1;33m,\u001B[0m \u001B[0mverbose\u001B[0m\u001B[1;33m=\u001B[0m\u001B[0mverbose\u001B[0m\u001B[1;33m)\u001B[0m\u001B[1;33m\u001B[0m\u001B[1;33m\u001B[0m\u001B[0m\n\u001B[0m\u001B[0;32m    460\u001B[0m     \u001B[1;32mif\u001B[0m \u001B[0mproba\u001B[0m\u001B[1;33m.\u001B[0m\u001B[0mshape\u001B[0m\u001B[1;33m[\u001B[0m\u001B[1;33m-\u001B[0m\u001B[1;36m1\u001B[0m\u001B[1;33m]\u001B[0m \u001B[1;33m>\u001B[0m \u001B[1;36m1\u001B[0m\u001B[1;33m:\u001B[0m\u001B[1;33m\u001B[0m\u001B[1;33m\u001B[0m\u001B[0m\n\u001B[0;32m    461\u001B[0m       \u001B[1;32mreturn\u001B[0m \u001B[0mproba\u001B[0m\u001B[1;33m.\u001B[0m\u001B[0margmax\u001B[0m\u001B[1;33m(\u001B[0m\u001B[0maxis\u001B[0m\u001B[1;33m=\u001B[0m\u001B[1;33m-\u001B[0m\u001B[1;36m1\u001B[0m\u001B[1;33m)\u001B[0m\u001B[1;33m\u001B[0m\u001B[1;33m\u001B[0m\u001B[0m\n",
      "\u001B[1;32mc:\\users\\mail\\pycharmprojects\\saleship\\venv\\lib\\site-packages\\tensorflow\\python\\keras\\engine\\training.py\u001B[0m in \u001B[0;36mpredict\u001B[1;34m(self, x, batch_size, verbose, steps, callbacks, max_queue_size, workers, use_multiprocessing)\u001B[0m\n\u001B[0;32m   1627\u001B[0m           \u001B[1;32mfor\u001B[0m \u001B[0mstep\u001B[0m \u001B[1;32min\u001B[0m \u001B[0mdata_handler\u001B[0m\u001B[1;33m.\u001B[0m\u001B[0msteps\u001B[0m\u001B[1;33m(\u001B[0m\u001B[1;33m)\u001B[0m\u001B[1;33m:\u001B[0m\u001B[1;33m\u001B[0m\u001B[1;33m\u001B[0m\u001B[0m\n\u001B[0;32m   1628\u001B[0m             \u001B[0mcallbacks\u001B[0m\u001B[1;33m.\u001B[0m\u001B[0mon_predict_batch_begin\u001B[0m\u001B[1;33m(\u001B[0m\u001B[0mstep\u001B[0m\u001B[1;33m)\u001B[0m\u001B[1;33m\u001B[0m\u001B[1;33m\u001B[0m\u001B[0m\n\u001B[1;32m-> 1629\u001B[1;33m             \u001B[0mtmp_batch_outputs\u001B[0m \u001B[1;33m=\u001B[0m \u001B[0mself\u001B[0m\u001B[1;33m.\u001B[0m\u001B[0mpredict_function\u001B[0m\u001B[1;33m(\u001B[0m\u001B[0miterator\u001B[0m\u001B[1;33m)\u001B[0m\u001B[1;33m\u001B[0m\u001B[1;33m\u001B[0m\u001B[0m\n\u001B[0m\u001B[0;32m   1630\u001B[0m             \u001B[1;32mif\u001B[0m \u001B[0mdata_handler\u001B[0m\u001B[1;33m.\u001B[0m\u001B[0mshould_sync\u001B[0m\u001B[1;33m:\u001B[0m\u001B[1;33m\u001B[0m\u001B[1;33m\u001B[0m\u001B[0m\n\u001B[0;32m   1631\u001B[0m               \u001B[0mcontext\u001B[0m\u001B[1;33m.\u001B[0m\u001B[0masync_wait\u001B[0m\u001B[1;33m(\u001B[0m\u001B[1;33m)\u001B[0m\u001B[1;33m\u001B[0m\u001B[1;33m\u001B[0m\u001B[0m\n",
      "\u001B[1;32mc:\\users\\mail\\pycharmprojects\\saleship\\venv\\lib\\site-packages\\tensorflow\\python\\eager\\def_function.py\u001B[0m in \u001B[0;36m__call__\u001B[1;34m(self, *args, **kwds)\u001B[0m\n\u001B[0;32m    826\u001B[0m     \u001B[0mtracing_count\u001B[0m \u001B[1;33m=\u001B[0m \u001B[0mself\u001B[0m\u001B[1;33m.\u001B[0m\u001B[0mexperimental_get_tracing_count\u001B[0m\u001B[1;33m(\u001B[0m\u001B[1;33m)\u001B[0m\u001B[1;33m\u001B[0m\u001B[1;33m\u001B[0m\u001B[0m\n\u001B[0;32m    827\u001B[0m     \u001B[1;32mwith\u001B[0m \u001B[0mtrace\u001B[0m\u001B[1;33m.\u001B[0m\u001B[0mTrace\u001B[0m\u001B[1;33m(\u001B[0m\u001B[0mself\u001B[0m\u001B[1;33m.\u001B[0m\u001B[0m_name\u001B[0m\u001B[1;33m)\u001B[0m \u001B[1;32mas\u001B[0m \u001B[0mtm\u001B[0m\u001B[1;33m:\u001B[0m\u001B[1;33m\u001B[0m\u001B[1;33m\u001B[0m\u001B[0m\n\u001B[1;32m--> 828\u001B[1;33m       \u001B[0mresult\u001B[0m \u001B[1;33m=\u001B[0m \u001B[0mself\u001B[0m\u001B[1;33m.\u001B[0m\u001B[0m_call\u001B[0m\u001B[1;33m(\u001B[0m\u001B[1;33m*\u001B[0m\u001B[0margs\u001B[0m\u001B[1;33m,\u001B[0m \u001B[1;33m**\u001B[0m\u001B[0mkwds\u001B[0m\u001B[1;33m)\u001B[0m\u001B[1;33m\u001B[0m\u001B[1;33m\u001B[0m\u001B[0m\n\u001B[0m\u001B[0;32m    829\u001B[0m       \u001B[0mcompiler\u001B[0m \u001B[1;33m=\u001B[0m \u001B[1;34m\"xla\"\u001B[0m \u001B[1;32mif\u001B[0m \u001B[0mself\u001B[0m\u001B[1;33m.\u001B[0m\u001B[0m_experimental_compile\u001B[0m \u001B[1;32melse\u001B[0m \u001B[1;34m\"nonXla\"\u001B[0m\u001B[1;33m\u001B[0m\u001B[1;33m\u001B[0m\u001B[0m\n\u001B[0;32m    830\u001B[0m       \u001B[0mnew_tracing_count\u001B[0m \u001B[1;33m=\u001B[0m \u001B[0mself\u001B[0m\u001B[1;33m.\u001B[0m\u001B[0mexperimental_get_tracing_count\u001B[0m\u001B[1;33m(\u001B[0m\u001B[1;33m)\u001B[0m\u001B[1;33m\u001B[0m\u001B[1;33m\u001B[0m\u001B[0m\n",
      "\u001B[1;32mc:\\users\\mail\\pycharmprojects\\saleship\\venv\\lib\\site-packages\\tensorflow\\python\\eager\\def_function.py\u001B[0m in \u001B[0;36m_call\u001B[1;34m(self, *args, **kwds)\u001B[0m\n\u001B[0;32m    860\u001B[0m       \u001B[1;31m# In this case we have not created variables on the first call. So we can\u001B[0m\u001B[1;33m\u001B[0m\u001B[1;33m\u001B[0m\u001B[1;33m\u001B[0m\u001B[0m\n\u001B[0;32m    861\u001B[0m       \u001B[1;31m# run the first trace but we should fail if variables are created.\u001B[0m\u001B[1;33m\u001B[0m\u001B[1;33m\u001B[0m\u001B[1;33m\u001B[0m\u001B[0m\n\u001B[1;32m--> 862\u001B[1;33m       \u001B[0mresults\u001B[0m \u001B[1;33m=\u001B[0m \u001B[0mself\u001B[0m\u001B[1;33m.\u001B[0m\u001B[0m_stateful_fn\u001B[0m\u001B[1;33m(\u001B[0m\u001B[1;33m*\u001B[0m\u001B[0margs\u001B[0m\u001B[1;33m,\u001B[0m \u001B[1;33m**\u001B[0m\u001B[0mkwds\u001B[0m\u001B[1;33m)\u001B[0m\u001B[1;33m\u001B[0m\u001B[1;33m\u001B[0m\u001B[0m\n\u001B[0m\u001B[0;32m    863\u001B[0m       \u001B[1;32mif\u001B[0m \u001B[0mself\u001B[0m\u001B[1;33m.\u001B[0m\u001B[0m_created_variables\u001B[0m\u001B[1;33m:\u001B[0m\u001B[1;33m\u001B[0m\u001B[1;33m\u001B[0m\u001B[0m\n\u001B[0;32m    864\u001B[0m         raise ValueError(\"Creating variables on a non-first call to a function\"\n",
      "\u001B[1;32mc:\\users\\mail\\pycharmprojects\\saleship\\venv\\lib\\site-packages\\tensorflow\\python\\eager\\function.py\u001B[0m in \u001B[0;36m__call__\u001B[1;34m(self, *args, **kwargs)\u001B[0m\n\u001B[0;32m   2940\u001B[0m       (graph_function,\n\u001B[0;32m   2941\u001B[0m        filtered_flat_args) = self._maybe_define_function(args, kwargs)\n\u001B[1;32m-> 2942\u001B[1;33m     return graph_function._call_flat(\n\u001B[0m\u001B[0;32m   2943\u001B[0m         filtered_flat_args, captured_inputs=graph_function.captured_inputs)  # pylint: disable=protected-access\n\u001B[0;32m   2944\u001B[0m \u001B[1;33m\u001B[0m\u001B[0m\n",
      "\u001B[1;32mc:\\users\\mail\\pycharmprojects\\saleship\\venv\\lib\\site-packages\\tensorflow\\python\\eager\\function.py\u001B[0m in \u001B[0;36m_call_flat\u001B[1;34m(self, args, captured_inputs, cancellation_manager)\u001B[0m\n\u001B[0;32m   1916\u001B[0m         and executing_eagerly):\n\u001B[0;32m   1917\u001B[0m       \u001B[1;31m# No tape is watching; skip to running the function.\u001B[0m\u001B[1;33m\u001B[0m\u001B[1;33m\u001B[0m\u001B[1;33m\u001B[0m\u001B[0m\n\u001B[1;32m-> 1918\u001B[1;33m       return self._build_call_outputs(self._inference_function.call(\n\u001B[0m\u001B[0;32m   1919\u001B[0m           ctx, args, cancellation_manager=cancellation_manager))\n\u001B[0;32m   1920\u001B[0m     forward_backward = self._select_forward_and_backward_functions(\n",
      "\u001B[1;32mc:\\users\\mail\\pycharmprojects\\saleship\\venv\\lib\\site-packages\\tensorflow\\python\\eager\\function.py\u001B[0m in \u001B[0;36mcall\u001B[1;34m(self, ctx, args, cancellation_manager)\u001B[0m\n\u001B[0;32m    553\u001B[0m       \u001B[1;32mwith\u001B[0m \u001B[0m_InterpolateFunctionError\u001B[0m\u001B[1;33m(\u001B[0m\u001B[0mself\u001B[0m\u001B[1;33m)\u001B[0m\u001B[1;33m:\u001B[0m\u001B[1;33m\u001B[0m\u001B[1;33m\u001B[0m\u001B[0m\n\u001B[0;32m    554\u001B[0m         \u001B[1;32mif\u001B[0m \u001B[0mcancellation_manager\u001B[0m \u001B[1;32mis\u001B[0m \u001B[1;32mNone\u001B[0m\u001B[1;33m:\u001B[0m\u001B[1;33m\u001B[0m\u001B[1;33m\u001B[0m\u001B[0m\n\u001B[1;32m--> 555\u001B[1;33m           outputs = execute.execute(\n\u001B[0m\u001B[0;32m    556\u001B[0m               \u001B[0mstr\u001B[0m\u001B[1;33m(\u001B[0m\u001B[0mself\u001B[0m\u001B[1;33m.\u001B[0m\u001B[0msignature\u001B[0m\u001B[1;33m.\u001B[0m\u001B[0mname\u001B[0m\u001B[1;33m)\u001B[0m\u001B[1;33m,\u001B[0m\u001B[1;33m\u001B[0m\u001B[1;33m\u001B[0m\u001B[0m\n\u001B[0;32m    557\u001B[0m               \u001B[0mnum_outputs\u001B[0m\u001B[1;33m=\u001B[0m\u001B[0mself\u001B[0m\u001B[1;33m.\u001B[0m\u001B[0m_num_outputs\u001B[0m\u001B[1;33m,\u001B[0m\u001B[1;33m\u001B[0m\u001B[1;33m\u001B[0m\u001B[0m\n",
      "\u001B[1;32mc:\\users\\mail\\pycharmprojects\\saleship\\venv\\lib\\site-packages\\tensorflow\\python\\eager\\execute.py\u001B[0m in \u001B[0;36mquick_execute\u001B[1;34m(op_name, num_outputs, inputs, attrs, ctx, name)\u001B[0m\n\u001B[0;32m     57\u001B[0m   \u001B[1;32mtry\u001B[0m\u001B[1;33m:\u001B[0m\u001B[1;33m\u001B[0m\u001B[1;33m\u001B[0m\u001B[0m\n\u001B[0;32m     58\u001B[0m     \u001B[0mctx\u001B[0m\u001B[1;33m.\u001B[0m\u001B[0mensure_initialized\u001B[0m\u001B[1;33m(\u001B[0m\u001B[1;33m)\u001B[0m\u001B[1;33m\u001B[0m\u001B[1;33m\u001B[0m\u001B[0m\n\u001B[1;32m---> 59\u001B[1;33m     tensors = pywrap_tfe.TFE_Py_Execute(ctx._handle, device_name, op_name,\n\u001B[0m\u001B[0;32m     60\u001B[0m                                         inputs, attrs, num_outputs)\n\u001B[0;32m     61\u001B[0m   \u001B[1;32mexcept\u001B[0m \u001B[0mcore\u001B[0m\u001B[1;33m.\u001B[0m\u001B[0m_NotOkStatusException\u001B[0m \u001B[1;32mas\u001B[0m \u001B[0me\u001B[0m\u001B[1;33m:\u001B[0m\u001B[1;33m\u001B[0m\u001B[1;33m\u001B[0m\u001B[0m\n",
      "\u001B[1;31mKeyboardInterrupt\u001B[0m: "
     ]
    }
   ],
   "source": [
    "from itertools import repeat\n",
    "import numpy as np\n",
    "from os import listdir\n",
    "\n",
    "PATH = r'C:\\Users\\mail\\Downloads\\data\\Eval Datasets'\n",
    "list_files = listdir(PATH)\n",
    "threshold = 0.51\n",
    "sample_amount = 250\n",
    "\n",
    "print(\"Starting mapping of all files in\", PATH)\n",
    "k = 0\n",
    "eval_list = []\n",
    "percent_list = []\n",
    "percent_list_known = []\n",
    "\n",
    "for j in range(len(list_files)):\n",
    "    print(k + len(list_files), 'of', (len(list_files)), \"files remaining.\")\n",
    "    dataset_filename = os.listdir(PATH)[j]\n",
    "    dataset_path = os.path.join(\"../..\", PATH, dataset_filename)\n",
    "    df = pd.read_csv(dataset_path, error_bad_lines=False, engine='c', encoding='UTF-8', low_memory=False, dtype=str)\n",
    "    df = df.astype(str)\n",
    "    if len(df.index) > sample_amount+1:\n",
    "        df = df.sample(sample_amount, random_state = 7)\n",
    "        df = df.reset_index(drop=True)\n",
    "    df.dropna(axis='rows', how='any')\n",
    "\n",
    "    df_mapped = df.copy()\n",
    "    map_list = []\n",
    "    correct = 0\n",
    "\n",
    "    col_dict = {df.columns.get_loc(c): c for idx, c in enumerate(df.columns)}\n",
    "    print(col_dict)\n",
    "\n",
    "    lists = list(map(list, col_dict.items()))\n",
    "    print('------------- Mapping {filename} -------------'.format(filename = dataset_filename))\n",
    "\n",
    "    for n in (range(len(col_dict))):\n",
    "        df_select = df[col_dict[n]]\n",
    "        df_select = df_select[df_select.notna()]\n",
    "        df_select = df_select.astype(str)\n",
    "        class_map = []\n",
    "        #print(n, df_select)\n",
    "        for m in (range(len(df_select))):\n",
    "            class_predictions = []\n",
    "            targets = ['Name', 'Description', 'Category', 'Price', 'Amount', 'EAN']\n",
    "            targets = le.fit_transform(targets)\n",
    "            text = df_select[m]\n",
    "            score = predictClass(text, tokenizer, model)\n",
    "            lists[n].append(score)\n",
    "            print('data:', text, ', prediction:', score)\n",
    "        x = pd.Series(lists[n])\n",
    "        #print(x.unique())\n",
    "        #print(x.value_counts())\n",
    "        y = pd.Series(x.value_counts())\n",
    "        # print(y.iloc[0], y.iloc[1])\n",
    "        print('_____________________________')\n",
    "        if y.iloc[0] > (len(df_select))*threshold:\n",
    "            print(y.index[0], 'Is the Majority Predicted Class.')\n",
    "            for i in range(len(y)-2):\n",
    "                print('Predicted classes:', y.index[i],', predictions:', y.iloc[i], '/', len(df_select))\n",
    "                class_predictions.append('Pred: {class_pred}: {num_pred} / {class_len}. Original: {origin}, Actual: {actual}'\n",
    "                                         .format(class_pred = y.index[i], num_pred = y.iloc[i], class_len = len(df_select),\n",
    "                                                origin = col_dict[n], actual = manual_maps[j][n]))\n",
    "                #df_mapped[col_dict[n]] = y.index[i]\n",
    "                df_mapped.rename({col_dict[n]:y.index[i]}, axis=1, inplace=True)\n",
    "            print(y.index[0])\n",
    "            if y.index[0] == manual_maps[j][n]:\n",
    "                correct += 1\n",
    "            print('Correct:', correct)\n",
    "\n",
    "        else:\n",
    "            print('There is no Majority Predicted Class above the threshold.')\n",
    "            for i in range(len(y)-2):\n",
    "                print('Predicted classes:', y.index[i],', predictions:', y.iloc[i], '/', len(df_select))\n",
    "                class_predictions.append('Pred {num}: {class_pred}: {num_pred} / {class_len}. Original: {origin}, Actual: {actual}'\n",
    "                                         .format(num = (i+1), class_pred = y.index[i], num_pred = y.iloc[i], class_len = len(df_select),\n",
    "                                                origin = col_dict[n], actual = manual_maps[j][n]))\n",
    "            print(y.index[0])\n",
    "            if y.index[0] == manual_maps[j][n]:\n",
    "                correct += 1\n",
    "            print('Correct:', correct)\n",
    "        print('Original Class:', col_dict[n])\n",
    "        print('Actual Class:', manual_maps[j][n])\n",
    "        print('__________________________________________')\n",
    "        map_list.append(class_predictions)\n",
    "\n",
    "\n",
    "    k -= 1\n",
    "    eval_list.append('Dataset: {dataset}, {percent}%'.format(dataset = dataset_filename, percent = (correct/len(col_dict))*100))\n",
    "    percent_list.append(correct/len(col_dict)*100)\n",
    "    percent_list_known.append(correct/(len(col_dict)-unknowns[j]))\n",
    "    print('Correct Maps: {correct}/{total}'.format(correct = correct, total = len(col_dict)))\n",
    "    correct_percent = (correct/len(col_dict))*100\n",
    "    print('Correct Maps Percentage: {percent}%'.format(percent=correct_percent))\n",
    "    print(map_list)"
   ],
   "metadata": {
    "collapsed": false,
    "pycharm": {
     "name": "#%%\n"
    }
   }
  },
  {
   "cell_type": "code",
   "execution_count": null,
   "outputs": [],
   "source": [
    "print('EVAL', eval_list)\n",
    "print('OVERALL', percent_list)\n",
    "print('KNOWN', percent_list_known)\n"
   ],
   "metadata": {
    "collapsed": false,
    "pycharm": {
     "name": "#%%\n"
    }
   }
  },
  {
   "cell_type": "code",
   "execution_count": null,
   "outputs": [],
   "source": [
    "import statistics\n",
    "average_total_autoperf = statistics.mean(percent_list)\n",
    "print(average_total_autoperf)\n"
   ],
   "metadata": {
    "collapsed": false,
    "pycharm": {
     "name": "#%%\n"
    }
   }
  },
  {
   "cell_type": "code",
   "execution_count": null,
   "outputs": [],
   "source": [
    "average_known_autoperf = statistics.mean(percent_list_known)\n",
    "print(average_known_autoperf*100)"
   ],
   "metadata": {
    "collapsed": false,
    "pycharm": {
     "name": "#%%\n"
    }
   }
  }
 ],
 "metadata": {
  "kernelspec": {
   "display_name": "Python 3",
   "language": "python",
   "name": "python3"
  },
  "language_info": {
   "codemirror_mode": {
    "name": "ipython",
    "version": 2
   },
   "file_extension": ".py",
   "mimetype": "text/x-python",
   "name": "python",
   "nbconvert_exporter": "python",
   "pygments_lexer": "ipython2",
   "version": "2.7.6"
  }
 },
 "nbformat": 4,
 "nbformat_minor": 0
}