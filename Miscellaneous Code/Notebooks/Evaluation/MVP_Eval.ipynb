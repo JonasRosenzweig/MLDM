{
 "cells": [
  {
   "cell_type": "code",
   "execution_count": 1,
   "metadata": {},
   "outputs": [
    {
     "ename": "OSError",
     "evalue": "SavedModel file does not exist at: C:\\Users\\mail\\PycharmProjects\\MLDM\\Main\\Models\\organized\\6_class_MVP_v2.h5/{saved_model.pbtxt|saved_model.pb}",
     "output_type": "error",
     "traceback": [
      "\u001b[1;31m---------------------------------------------------------------------------\u001b[0m",
      "\u001b[1;31mOSError\u001b[0m                                   Traceback (most recent call last)",
      "\u001b[1;32m<ipython-input-1-599acb3e8533>\u001b[0m in \u001b[0;36m<module>\u001b[1;34m\u001b[0m\n\u001b[0;32m      6\u001b[0m \u001b[1;32mfrom\u001b[0m \u001b[0mkeras\u001b[0m\u001b[1;33m.\u001b[0m\u001b[0mpreprocessing\u001b[0m \u001b[1;32mimport\u001b[0m \u001b[0msequence\u001b[0m\u001b[1;33m\u001b[0m\u001b[1;33m\u001b[0m\u001b[0m\n\u001b[0;32m      7\u001b[0m \u001b[1;33m\u001b[0m\u001b[0m\n\u001b[1;32m----> 8\u001b[1;33m \u001b[0mmodel\u001b[0m \u001b[1;33m=\u001b[0m \u001b[0mkeras\u001b[0m\u001b[1;33m.\u001b[0m\u001b[0mmodels\u001b[0m\u001b[1;33m.\u001b[0m\u001b[0mload_model\u001b[0m\u001b[1;33m(\u001b[0m\u001b[1;34mr'C:\\Users\\mail\\PycharmProjects\\MLDM\\Main\\Models\\organized\\6_class_MVP_v2.h5'\u001b[0m\u001b[1;33m)\u001b[0m\u001b[1;33m\u001b[0m\u001b[1;33m\u001b[0m\u001b[0m\n\u001b[0m\u001b[0;32m      9\u001b[0m \u001b[0mtokenizer\u001b[0m \u001b[1;33m=\u001b[0m \u001b[0mpickle\u001b[0m\u001b[1;33m.\u001b[0m\u001b[0mload\u001b[0m\u001b[1;33m(\u001b[0m\u001b[0mopen\u001b[0m\u001b[1;33m(\u001b[0m\u001b[1;34mr'C:\\Users\\mail\\PycharmProjects\\MLDM\\Main\\Models\\organized\\6_class_MVP_v2.pkl'\u001b[0m\u001b[1;33m,\u001b[0m \u001b[1;34m'rb'\u001b[0m\u001b[1;33m)\u001b[0m\u001b[1;33m)\u001b[0m\u001b[1;33m\u001b[0m\u001b[1;33m\u001b[0m\u001b[0m\n\u001b[0;32m     10\u001b[0m \u001b[0mle\u001b[0m \u001b[1;33m=\u001b[0m \u001b[0mLabelEncoder\u001b[0m\u001b[1;33m(\u001b[0m\u001b[1;33m)\u001b[0m\u001b[1;33m\u001b[0m\u001b[1;33m\u001b[0m\u001b[0m\n",
      "\u001b[1;32m~\\anaconda3\\lib\\site-packages\\tensorflow\\python\\keras\\saving\\save.py\u001b[0m in \u001b[0;36mload_model\u001b[1;34m(filepath, custom_objects, compile, options)\u001b[0m\n\u001b[0;32m    209\u001b[0m       \u001b[0mfilepath\u001b[0m \u001b[1;33m=\u001b[0m \u001b[0mpath_to_string\u001b[0m\u001b[1;33m(\u001b[0m\u001b[0mfilepath\u001b[0m\u001b[1;33m)\u001b[0m\u001b[1;33m\u001b[0m\u001b[1;33m\u001b[0m\u001b[0m\n\u001b[0;32m    210\u001b[0m       \u001b[1;32mif\u001b[0m \u001b[0misinstance\u001b[0m\u001b[1;33m(\u001b[0m\u001b[0mfilepath\u001b[0m\u001b[1;33m,\u001b[0m \u001b[0msix\u001b[0m\u001b[1;33m.\u001b[0m\u001b[0mstring_types\u001b[0m\u001b[1;33m)\u001b[0m\u001b[1;33m:\u001b[0m\u001b[1;33m\u001b[0m\u001b[1;33m\u001b[0m\u001b[0m\n\u001b[1;32m--> 211\u001b[1;33m         \u001b[0mloader_impl\u001b[0m\u001b[1;33m.\u001b[0m\u001b[0mparse_saved_model\u001b[0m\u001b[1;33m(\u001b[0m\u001b[0mfilepath\u001b[0m\u001b[1;33m)\u001b[0m\u001b[1;33m\u001b[0m\u001b[1;33m\u001b[0m\u001b[0m\n\u001b[0m\u001b[0;32m    212\u001b[0m         \u001b[1;32mreturn\u001b[0m \u001b[0msaved_model_load\u001b[0m\u001b[1;33m.\u001b[0m\u001b[0mload\u001b[0m\u001b[1;33m(\u001b[0m\u001b[0mfilepath\u001b[0m\u001b[1;33m,\u001b[0m \u001b[0mcompile\u001b[0m\u001b[1;33m,\u001b[0m \u001b[0moptions\u001b[0m\u001b[1;33m)\u001b[0m\u001b[1;33m\u001b[0m\u001b[1;33m\u001b[0m\u001b[0m\n\u001b[0;32m    213\u001b[0m \u001b[1;33m\u001b[0m\u001b[0m\n",
      "\u001b[1;32m~\\anaconda3\\lib\\site-packages\\tensorflow\\python\\saved_model\\loader_impl.py\u001b[0m in \u001b[0;36mparse_saved_model\u001b[1;34m(export_dir)\u001b[0m\n\u001b[0;32m    109\u001b[0m       \u001b[1;32mraise\u001b[0m \u001b[0mIOError\u001b[0m\u001b[1;33m(\u001b[0m\u001b[1;34m\"Cannot parse file %s: %s.\"\u001b[0m \u001b[1;33m%\u001b[0m \u001b[1;33m(\u001b[0m\u001b[0mpath_to_pbtxt\u001b[0m\u001b[1;33m,\u001b[0m \u001b[0mstr\u001b[0m\u001b[1;33m(\u001b[0m\u001b[0me\u001b[0m\u001b[1;33m)\u001b[0m\u001b[1;33m)\u001b[0m\u001b[1;33m)\u001b[0m\u001b[1;33m\u001b[0m\u001b[1;33m\u001b[0m\u001b[0m\n\u001b[0;32m    110\u001b[0m   \u001b[1;32melse\u001b[0m\u001b[1;33m:\u001b[0m\u001b[1;33m\u001b[0m\u001b[1;33m\u001b[0m\u001b[0m\n\u001b[1;32m--> 111\u001b[1;33m     raise IOError(\"SavedModel file does not exist at: %s/{%s|%s}\" %\n\u001b[0m\u001b[0;32m    112\u001b[0m                   (export_dir,\n\u001b[0;32m    113\u001b[0m                    \u001b[0mconstants\u001b[0m\u001b[1;33m.\u001b[0m\u001b[0mSAVED_MODEL_FILENAME_PBTXT\u001b[0m\u001b[1;33m,\u001b[0m\u001b[1;33m\u001b[0m\u001b[1;33m\u001b[0m\u001b[0m\n",
      "\u001b[1;31mOSError\u001b[0m: SavedModel file does not exist at: C:\\Users\\mail\\PycharmProjects\\MLDM\\Main\\Models\\organized\\6_class_MVP_v2.h5/{saved_model.pbtxt|saved_model.pb}"
     ]
    }
   ],
   "source": [
    "import os\n",
    "import pandas as pd\n",
    "import pickle\n",
    "import keras\n",
    "from sklearn.preprocessing import LabelEncoder\n",
    "from keras.preprocessing import sequence\n",
    "\n",
    "model = keras.models.load_model(r'C:\\Users\\mail\\PycharmProjects\\MLDM\\Main\\Models\\organized\\6_class_MVP_v2.h5')\n",
    "tokenizer = pickle.load(open(r'C:\\Users\\mail\\PycharmProjects\\MLDM\\Main\\Models\\organized\\6_class_MVP_v2.pkl', 'rb'))\n",
    "le = LabelEncoder()\n",
    "print('Model, Tokenizer and LabelEncoder loaded.')\n",
    "\n",
    "def predictClass(text, tok, model):\n",
    "    text_pad = sequence.pad_sequences(tok.texts_to_sequences([text]), maxlen=300)\n",
    "    score = le.inverse_transform(model.predict_classes([text_pad]))\n",
    "    return score[0]\n",
    "\n"
   ]
  },
  {
   "cell_type": "code",
   "execution_count": null,
   "metadata": {
    "pycharm": {
     "name": "#%%\n"
    }
   },
   "outputs": [],
   "source": [
    "manual_map_Bisgaard = {0: 'EAN', 1: 'Unknown', 2: 'Description', 3: 'Description', 4: 'Unknown', 5: 'Description', 6: 'Unknown', 7: 'Amount',\n",
    "             8: 'Unknown', 9: 'Price', 10: 'Price', 11: 'Category', 12: 'Description', 13: 'Unknown', 14: 'Unknown', 15: 'Description',\n",
    "            16: 'Description', 17: 'Unknown', 18: 'Unknown', 19: 'Unknown', 20: 'Unknown', 21: 'Unknown', 22: 'Unknown', 23: 'Unknown',\n",
    "            24: 'Unknown', 25: 'Unknown'}\n",
    "manual_map_A_dataset = {0: 'Unknown', 1: 'Unknown', 2: 'Name', 3: 'Category', 4: 'Price', 5: 'EAN', 6: 'Unknown', 7: 'Amount', 8: 'Name',\n",
    "                       9: 'Unknown', 10: 'Unknown', 11: 'Unknown', 12: 'Unknown', 13: 'Unknown', 14: 'Unknown', 15: 'Unknown',16: 'Unknown',\n",
    "                       17: 'Unknown', 18: 'Description' }\n",
    "manual_map_A_Discount_bigbuy_da = {0: 'Unknown', 1: 'Category', 2: 'Name', 3: 'Description', 4: 'Description',\n",
    "                                   5: 'Amount'}\n",
    "manual_map_A_Discount_bigbuy_en = {0: 'Unknown', 1: 'Category', 2: 'Name', 3: 'Description', 4: 'Description',\n",
    "                                   5: 'Amount'}\n",
    "manual_map_A_Discount_Compressed1 = {0: 'Unknown', 1: 'Name', 2: 'Description', 3: 'EAN', 4: 'Category',\n",
    "                                     5: 'Category'}\n",
    "manual_map_A_Discount_Compressed2 = {0: 'Unknown', 1: 'Name', 2: 'Description', 3: 'EAN', 4:\n",
    "    'Category'}\n",
    "manual_map_A_Discount_presta_product_2399_da = {0: 'Unknown', 1: 'Name', 2: 'Price', 3: 'Price', 4: 'EAN',\n",
    "                                                5: 'Description', 6: 'Description'}\n",
    "manual_map_A_Discount_presta_product_2403_en = {0: 'Unknown', 1: 'Name', 2: 'Price', 3: 'Price', 4: 'Description',\n",
    "                                                5: 'Description'}\n",
    "manual_map_A_Discount_presta_product_2507_da = {0: 'Unknown', 1: 'Name', 2: 'Price', 3: 'Price', 4: 'Price', 5:\n",
    "    'EAN', 6: 'Description', 7: 'Description'}\n",
    "manual_map_A_Discount_presta_product_2507_en = {0: 'Unknown', 1: 'Name', 2: 'Price', 3: 'Price', 4: 'Price',\n",
    "                                                5: 'EAN', 6: 'Description', 7: 'Description'}\n",
    "manual_map_A_Discount_presta_product_2570_da = {0: 'Unknown', 1: 'Name', 2: 'Price', 3: 'Price', 4: 'Price',\n",
    "                                                5: 'EAN'}\n",
    "manual_map_A_Discount_presta_product_2570_en = {0: 'Unknown', 1: 'Name', 2: 'Price', 3: 'Price', 4: 'Price',\n",
    "                                                5: 'EAN'}\n",
    "manual_map_A_Discount_presta_product_2662_da = {0: 'Unknown', 1: 'Name', 2: 'Price', 3: 'Price', 4: 'Unknown',\n",
    "                                                5: 'EAN', 6: 'Description'}\n",
    "manual_map_A_Discount_presta_product_2662_en = {0: 'Unknown', 1: 'Name', 2: 'Price', 3: 'Price', 4: 'Unknown',\n",
    "                                                5: 'EAN', 6: 'Description', 7: 'Desription'}\n",
    "manual_map_A_Discount_presta_product_2678_da = {0: 'Unknown', 1: 'Name', 2: 'Price', 3: 'Price', 4: 'Unknown',\n",
    "                                                5: 'EAN', 6: 'Description'}\n",
    "manual_map_A_Discount_presta_product_2678_en = {0: 'Unknown', 1: 'Name', 2: 'Price', 3: 'Price', 4: 'Unknown',\n",
    "                                                5: 'EAN', 6: 'Description', 7: 'Description'}\n",
    "manual_map_A_Discount_presta_product_3046_da = {0: 'Unknown', 1: 'Name', 2: 'Price', 3: 'Price', 4: 'Price',\n",
    "                                                5: 'Unknown', 6: 'EAN', 7: 'Description', 8: 'Description'}\n",
    "manual_map_A_Discount_presta_product_3046_en = {0: 'Unknown', 1: 'Name', 2: 'Price', 3: 'Price', 4: 'Price',\n",
    "                                                5: 'Unknown', 6: 'EAN', 7: 'Description', 8: 'Description'}\n",
    "manual_map_Scand = {0: 'Unknown', 1: 'Name', 2: 'Unknown', 3: 'EAN', 4: 'Amount', 5: 'Amount', 6: 'Amount',\n",
    "                    7: 'Unknown', 8: 'Unknown',\n",
    "             9: 'Price', 10: 'Price', 11: 'Price', 12: 'Price', 13: 'Unknown'}\n",
    "manual_map_items = {0: 'Unknown', 1: 'EAN', 2:'Name', 3: 'Unknown', 4: 'Price', 5: 'Amount', 6: 'Amount',\n",
    "                    7: 'Unknown', 8: 'Unknown', 9: 'Unknown',\n",
    "                   10: 'Unknown', 11: 'Unknown', 12: 'Unknown' }\n",
    "manual_map_Joha = {0: 'Unknown', 1: 'Unknown', 2: 'Unknown', 3: 'Category', 4: 'Unknown', 5: 'EAN', 6: 'Amount',\n",
    "                   7: 'Unknown', 8: 'Price', 9: 'Unknown',\n",
    "                  10: 'Unknown', 11: 'Unknown', 12: 'Unknown', 13: 'Unknown', 14: 'Unknown', 15: 'Description',\n",
    "                   16: 'Unknown' }\n",
    "manual_map_Modern_classic_upstart = {0: 'Amount', 1: 'Unknown', 2: 'Name', 3: 'EAN', 4: 'EAN', 5: 'Amount',\n",
    "                                     6: 'Price', 7: 'Price', 8: 'Price', 9: 'Price'}\n",
    "manual_map_PIF = {0: 'Unknown', 1: 'Name', 2: 'EAN', 3: 'Unknown', 4: 'Unknown', 5: 'Unknown', 6: 'Unknown',\n",
    "                  7: 'Unknown',  8: 'Unknown'}\n",
    "manual_map_prisliste ={0: 'Unknown', 1: 'Description', 2: 'Unknown', 3: 'Unknown', 4: 'Unknown', 5: 'Amount',\n",
    "                       6: 'Unknown', 7: 'Unknown', 8: 'Unknown', 9: 'Price', 10: 'Unknown', 11: 'Price',\n",
    "                       12: 'Price', 13: 'Unknown', 14:\n",
    "                       'Unknown', 15: 'Unknown', 16: 'Unknown', 17: 'EAN', 18: 'Unknown', 19: 'Unknown',\n",
    "                       20: 'Unknown', 21:\n",
    "                       'Unknown', 22: 'Unknown', 23: 'Unknown', 24: 'Unknown', 25: 'Unknown', 26: 'Unknown',\n",
    "                       27: 'Unknown', 28: 'Unknown'}\n",
    "manual_map_VAREFIL = {0: 'Unknown', 1: 'EAN', 2: 'Name', 3: 'Name', 4: 'Category',  5: 'Price', 6: 'Unknown',\n",
    "                      7: 'Unknown', 8: 'Unknown'}\n",
    "manual_maps = [manual_map_A_dataset, manual_map_A_Discount_bigbuy_da, manual_map_A_Discount_bigbuy_en,\n",
    "               manual_map_A_Discount_Compressed1, manual_map_A_Discount_Compressed2, manual_map_A_Discount_presta_product_2399_da,\n",
    "               manual_map_A_Discount_presta_product_2403_en, manual_map_A_Discount_presta_product_2507_da,\n",
    "               manual_map_A_Discount_presta_product_2507_en, manual_map_A_Discount_presta_product_2570_da,\n",
    "               manual_map_A_Discount_presta_product_2570_en, manual_map_A_Discount_presta_product_2662_da,\n",
    "               manual_map_A_Discount_presta_product_2662_en, manual_map_A_Discount_presta_product_2678_da,\n",
    "               manual_map_A_Discount_presta_product_2678_en, manual_map_A_Discount_presta_product_3046_da,\n",
    "               manual_map_A_Discount_presta_product_3046_en, manual_map_Bisgaard, manual_map_Scand, manual_map_items,\n",
    "              manual_map_Joha, manual_map_Modern_classic_upstart, manual_map_PIF, manual_map_prisliste, manual_map_VAREFIL]\n",
    "\n",
    "from collections import Counter\n",
    "unknowns = []\n",
    "for l in range(len(manual_maps)):\n",
    "    unknowns.append(Counter(manual_maps[l].values())['Unknown'])"
   ]
  },
  {
   "cell_type": "code",
   "execution_count": null,
   "metadata": {
    "pycharm": {
     "name": "#%%\n"
    }
   },
   "outputs": [],
   "source": [
    "from itertools import repeat\n",
    "import numpy as np\n",
    "from os import listdir\n",
    "\n",
    "PATH = r'C:\\Users\\mail\\Downloads\\data\\Eval Datasets'\n",
    "list_files = listdir(PATH)\n",
    "threshold = 0.51\n",
    "sample_amount = 250\n",
    "\n",
    "print(\"Starting mapping of all files in\", PATH)\n",
    "k = 0\n",
    "eval_list = []\n",
    "percent_list = []\n",
    "percent_list_known = []\n",
    "\n",
    "for j in range(len(list_files)):\n",
    "    print(k + len(list_files), 'of', (len(list_files)), \"files remaining.\")\n",
    "    dataset_filename = os.listdir(PATH)[j]\n",
    "    dataset_path = os.path.join(\"../..\", PATH, dataset_filename)\n",
    "    df = pd.read_csv(dataset_path, error_bad_lines=False, engine='c', encoding='UTF-8', low_memory=False, dtype=str)\n",
    "    df = df.astype(str)\n",
    "    if len(df.index) > sample_amount+1:\n",
    "        df = df.sample(sample_amount, random_state = 7)\n",
    "        df = df.reset_index(drop=True)\n",
    "    df.dropna(axis='rows', how='any')\n",
    "\n",
    "    df_mapped = df.copy()\n",
    "    map_list = []\n",
    "    correct = 0\n",
    "\n",
    "    col_dict = {df.columns.get_loc(c): c for idx, c in enumerate(df.columns)}\n",
    "    print(col_dict)\n",
    "\n",
    "    lists = list(map(list, col_dict.items()))\n",
    "    print('------------- Mapping {filename} -------------'.format(filename = dataset_filename))\n",
    "\n",
    "    for n in (range(len(col_dict))):\n",
    "        df_select = df[col_dict[n]]\n",
    "        df_select = df_select[df_select.notna()]\n",
    "        df_select = df_select.astype(str)\n",
    "        class_map = []\n",
    "        #print(n, df_select)\n",
    "        for m in (range(len(df_select))):\n",
    "            class_predictions = []\n",
    "            targets = ['Name', 'Description', 'Category', 'Price', 'Amount', 'EAN']\n",
    "            targets = le.fit_transform(targets)\n",
    "            text = df_select[m]\n",
    "            score = predictClass(text, tokenizer, model)\n",
    "            lists[n].append(score)\n",
    "            print('data:', text, ', prediction:', score)\n",
    "        x = pd.Series(lists[n])\n",
    "        #print(x.unique())\n",
    "        #print(x.value_counts())\n",
    "        y = pd.Series(x.value_counts())\n",
    "        # print(y.iloc[0], y.iloc[1])\n",
    "        print('_____________________________')\n",
    "        if y.iloc[0] > (len(df_select))*threshold:\n",
    "            print(y.index[0], 'Is the Majority Predicted Class.')\n",
    "            for i in range(len(y)-2):\n",
    "                print('Predicted classes:', y.index[i],', predictions:', y.iloc[i], '/', len(df_select))\n",
    "                class_predictions.append('Pred: {class_pred}: {num_pred} / {class_len}. Original: {origin}, Actual: {actual}'\n",
    "                                         .format(class_pred = y.index[i], num_pred = y.iloc[i], class_len = len(df_select),\n",
    "                                                origin = col_dict[n], actual = manual_maps[j][n]))\n",
    "                #df_mapped[col_dict[n]] = y.index[i]\n",
    "                df_mapped.rename({col_dict[n]:y.index[i]}, axis=1, inplace=True)\n",
    "            print(y.index[0])\n",
    "            if y.index[0] == manual_maps[j][n]:\n",
    "                correct += 1\n",
    "            print('Correct:', correct)\n",
    "\n",
    "        else:\n",
    "            print('There is no Majority Predicted Class above the threshold.')\n",
    "            for i in range(len(y)-2):\n",
    "                print('Predicted classes:', y.index[i],', predictions:', y.iloc[i], '/', len(df_select))\n",
    "                class_predictions.append('Pred {num}: {class_pred}: {num_pred} / {class_len}. Original: {origin}, Actual: {actual}'\n",
    "                                         .format(num = (i+1), class_pred = y.index[i], num_pred = y.iloc[i], class_len = len(df_select),\n",
    "                                                origin = col_dict[n], actual = manual_maps[j][n]))\n",
    "            print(y.index[0])\n",
    "            if y.index[0] == manual_maps[j][n]:\n",
    "                correct += 1\n",
    "            print('Correct:', correct)\n",
    "        print('Original Class:', col_dict[n])\n",
    "        print('Actual Class:', manual_maps[j][n])\n",
    "        print('__________________________________________')\n",
    "        map_list.append(class_predictions)\n",
    "\n",
    "\n",
    "    k -= 1\n",
    "    eval_list.append('Dataset: {dataset}, {percent}%'.format(dataset = dataset_filename, percent = (correct/len(col_dict))*100))\n",
    "    percent_list.append(correct/len(col_dict)*100)\n",
    "    percent_list_known.append(correct/(len(col_dict)-unknowns[j]))\n",
    "    print('Correct Maps: {correct}/{total}'.format(correct = correct, total = len(col_dict)))\n",
    "    correct_percent = (correct/len(col_dict))*100\n",
    "    print('Correct Maps Percentage: {percent}%'.format(percent=correct_percent))\n",
    "    print(map_list)"
   ]
  },
  {
   "cell_type": "code",
   "execution_count": null,
   "metadata": {
    "pycharm": {
     "name": "#%%\n"
    }
   },
   "outputs": [],
   "source": [
    "print('EVAL', eval_list)\n",
    "print('OVERALL', percent_list)\n",
    "print('KNOWN', percent_list_known)\n"
   ]
  },
  {
   "cell_type": "code",
   "execution_count": null,
   "metadata": {
    "pycharm": {
     "name": "#%%\n"
    }
   },
   "outputs": [],
   "source": [
    "import statistics\n",
    "average_total_autoperf = statistics.mean(percent_list)\n",
    "print(average_total_autoperf)\n"
   ]
  },
  {
   "cell_type": "code",
   "execution_count": null,
   "metadata": {
    "pycharm": {
     "name": "#%%\n"
    }
   },
   "outputs": [],
   "source": [
    "average_known_autoperf = statistics.mean(percent_list_known)\n",
    "print(average_known_autoperf*100)"
   ]
  }
 ],
 "metadata": {
  "kernelspec": {
   "display_name": "Python 3",
   "language": "python",
   "name": "python3"
  },
  "language_info": {
   "codemirror_mode": {
    "name": "ipython",
    "version": 3
   },
   "file_extension": ".py",
   "mimetype": "text/x-python",
   "name": "python",
   "nbconvert_exporter": "python",
   "pygments_lexer": "ipython3",
   "version": "3.8.5"
  }
 },
 "nbformat": 4,
 "nbformat_minor": 1
}
